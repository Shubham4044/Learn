{
 "cells": [
  {
   "cell_type": "markdown",
   "metadata": {},
   "source": [
    "<center> <img src =\"https://i.postimg.cc/1X8H7YYt/BITS-Logo.png\" width = \"400\" alt=\"BITS Pilani Logo\" /> </center>"
   ]
  },
  {
   "cell_type": "markdown",
   "metadata": {
    "id": "LDiiPu4oBfK4"
   },
   "source": [
    "<font color='green'> <h1> <center> Demonstration of matplotlib </center> </h1> </font>\n",
    "\n"
   ]
  },
  {
   "cell_type": "markdown",
   "metadata": {
    "id": "yOdm1Hx2BfLB"
   },
   "source": [
    "- Matplotlib is a visualization library\n",
    "- It is an extensive library spanning over 70K+ lines of code\n",
    "- Data can be represented visually using this library\n",
    "- An extensive documentation is available in the official website https://matplotlib.org/contents.html\n",
    "- There are several interfaces to create visualization and the library is still growing\n",
    "- The library has to be imported before using it"
   ]
  },
  {
   "cell_type": "markdown",
   "metadata": {
    "id": "WoVWkVABBfLE"
   },
   "source": [
    "#### Importing Matplotlib"
   ]
  },
  {
   "cell_type": "code",
   "execution_count": null,
   "metadata": {
    "id": "EggKB5tOBfLF"
   },
   "outputs": [],
   "source": [
    "import matplotlib.pyplot as plt\n",
    "#This means that when you create a plot using Matplotlib functions, the plot will be embedded directly below the code cell that generated it.\n",
    "%matplotlib inline"
   ]
  },
  {
   "cell_type": "markdown",
   "metadata": {
    "id": "53aIBb3UBfLH"
   },
   "source": [
    "#### Let us start with a 'Hello World' kind of example"
   ]
  },
  {
   "cell_type": "code",
   "execution_count": null,
   "metadata": {
    "id": "bl4lG916BfLH",
    "outputId": "71b9398b-89ed-49d5-afa2-c7a116089688"
   },
   "outputs": [],
   "source": [
    "x = x = [1, 2, 3, 4, 5]\n",
    "y = [1, 2, 3, 4, 5]\n",
    "\n",
    "print(x)\n",
    "print(y)"
   ]
  },
  {
   "cell_type": "code",
   "execution_count": null,
   "metadata": {
    "id": "0GP8398ABfLK",
    "outputId": "6bff71a0-343e-4923-f130-c8697375ab4f"
   },
   "outputs": [],
   "source": [
    "plt.plot(x,y)"
   ]
  },
  {
   "cell_type": "markdown",
   "metadata": {
    "id": "mtfW-tNUBfLK"
   },
   "source": [
    "- A linear function as you may have guessed!"
   ]
  },
  {
   "cell_type": "markdown",
   "metadata": {
    "id": "VgtJPbUsBfLL"
   },
   "source": [
    "#### Let us now add some labels"
   ]
  },
  {
   "cell_type": "code",
   "execution_count": null,
   "metadata": {
    "id": "9rLTuUUyBfLN",
    "outputId": "b0416fd7-5693-42c1-b452-5cd95884e59d"
   },
   "outputs": [],
   "source": [
    "plt.plot(x,y)\n",
    "plt.xlabel('X Growth') # Adds a Label to the horizontal axis\n",
    "plt.ylabel('Y Growth') # Adds a Label to the vertical axis\n",
    "plt.title('Linear Function') # Adds a Label above the Graph"
   ]
  },
  {
   "cell_type": "markdown",
   "metadata": {
    "id": "XT3EbPTHBfLP"
   },
   "source": [
    "#### Plotting Subplots\n",
    "- Let us plot another function"
   ]
  },
  {
   "cell_type": "code",
   "execution_count": null,
   "metadata": {
    "id": "sF2qi0KYBfLQ",
    "outputId": "9f053aa3-2db2-4a58-d671-b44e0489c264"
   },
   "outputs": [],
   "source": [
    "x = [1, 2, 3, 4, 5]\n",
    "y = [2, 3, 8, 9, 15]\n",
    "plt.plot(x,y)\n",
    "plt.xlabel('X Axis') # Adds a Label to the horizontal axis\n",
    "plt.ylabel('Y Axis') # Adds a Label to the vertical axis\n",
    "plt.title('Graph') # Adds a Label above the Graph"
   ]
  },
  {
   "cell_type": "markdown",
   "metadata": {
    "id": "FnR84rNkBfLQ"
   },
   "source": [
    "- The subplot function in matplotlib can be used to plot 2 or more plots in a single figure\n",
    "- (we will deal with the **figure** in little detail just below)"
   ]
  },
  {
   "cell_type": "code",
   "execution_count": null,
   "metadata": {
    "id": "Lr9aHX0lBfLR",
    "outputId": "c5801be2-8c6d-4e00-cf3b-0c60ecc8c78c"
   },
   "outputs": [],
   "source": [
    "plt.subplot(1,2,1) # args: number of rows, number of columns, figure 1\n",
    "plt.plot(x,y,'r') # args: X axis, Y axis and colour of the line (red here)\n",
    "\n",
    "plt.subplot(1,2,2) # args: number of rows, number of columns, figure 1\n",
    "plt.plot(y,x,'b') # args: X axis, Y axis and colour of the line (blue here)"
   ]
  },
  {
   "cell_type": "markdown",
   "metadata": {
    "id": "78sAeV9BBfLR"
   },
   "source": [
    "### Access to Figure"
   ]
  },
  {
   "cell_type": "markdown",
   "metadata": {
    "id": "atIaEs8eBfLR"
   },
   "source": [
    "#### Pyplot creates a figure, plots the lines in the figure, decorates them etc.\n",
    "#### The collection of pyplot commands could be used in an Object Oriented style using an Axes object."
   ]
  },
  {
   "cell_type": "code",
   "execution_count": null,
   "metadata": {
    "id": "CBwuPC5bBfLS",
    "outputId": "3949f19f-260a-4836-c942-b0694e805256"
   },
   "outputs": [],
   "source": [
    "figure = plt.figure() # figure function gives a reference to the figure and axes could be used\n",
    "#figure.add_axes() allows you to specify the position and size of the axes within the figure.\n",
    "#The list [0.1, 0.1, 0.5, 0.5] specifies the position and size of the axes. \n",
    "#The values represent [left, bottom, width, height]\n",
    "axes = figure.add_axes([0.1, 0.1, 0.5, 0.5]) # The values should be between 0 and 1\n",
    "axes.plot(x,y)\n",
    "axes.set_xlabel('X Axis')\n",
    "axes.set_ylabel('Y Axis')\n",
    "axes.set_title(\"Graph\")"
   ]
  }
 ],
 "metadata": {
  "colab": {
   "name": "Module-07-01-Matplotlib.ipynb",
   "provenance": []
  },
  "kernelspec": {
   "display_name": "Python 3 (ipykernel)",
   "language": "python",
   "name": "python3"
  },
  "language_info": {
   "codemirror_mode": {
    "name": "ipython",
    "version": 3
   },
   "file_extension": ".py",
   "mimetype": "text/x-python",
   "name": "python",
   "nbconvert_exporter": "python",
   "pygments_lexer": "ipython3",
   "version": "3.12.3"
  }
 },
 "nbformat": 4,
 "nbformat_minor": 4
}
