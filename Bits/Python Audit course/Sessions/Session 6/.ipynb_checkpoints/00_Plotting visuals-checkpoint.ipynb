{
 "cells": [
  {
   "cell_type": "markdown",
   "metadata": {},
   "source": [
    "<center> <img src =\"https://i.postimg.cc/1X8H7YYt/BITS-Logo.png\" width = \"400\" alt=\"BITS Pilani Logo\" /> </center>"
   ]
  },
  {
   "cell_type": "markdown",
   "metadata": {},
   "source": [
    "<font color='green'> <h1> <center> Plotting visuals </center> </h1> </font>\n",
    "\n"
   ]
  },
  {
   "cell_type": "markdown",
   "metadata": {},
   "source": [
    "Lets try plotting some other graphs as well."
   ]
  },
  {
   "cell_type": "code",
   "execution_count": null,
   "metadata": {},
   "outputs": [],
   "source": [
    "import pandas as pd\n",
    "import numpy as np\n",
    "import matplotlib.pyplot as plt"
   ]
  },
  {
   "cell_type": "code",
   "execution_count": null,
   "metadata": {},
   "outputs": [],
   "source": [
    "bikes = pd.read_csv(\"bike_shairing_hourly.csv\")\n",
    "bikes.head(2)"
   ]
  },
  {
   "cell_type": "markdown",
   "metadata": {},
   "source": [
    "<b> Histogram<b>"
   ]
  },
  {
   "cell_type": "markdown",
   "metadata": {},
   "source": [
    "Lets try plotting histogram for one of numeric features i.e. user count and number of bins as 5."
   ]
  },
  {
   "cell_type": "code",
   "execution_count": null,
   "metadata": {},
   "outputs": [],
   "source": [
    "#a bar's height indicates the frequency of data points with a value within the corresponding bin.\n",
    "figure, ax = plt.subplots() #This is a function call to create a new figure and a set of subplots.\n",
    "ax.hist(bikes.cnt, 5) #.hist(): This is a method provided by the Axes object in Matplotlib for creating histogram.data divided into 5 bins\n",
    "plt.show()"
   ]
  },
  {
   "cell_type": "markdown",
   "metadata": {},
   "source": [
    "Feature\t       plt.figure()\t                                        plt.subplots()\n",
    "Purpose:\t   Create a blank figure, manually add axes.\t        Create a figure and axes simultaneously.\n",
    "Axes Creation: Use add_subplot() or add_axes() manually.\t        Automatically creates one or more axes.\n",
    "Convenience:   Less convenient for multiple subplots.\t            Easy to use, especially for multiple subplots."
   ]
  },
  {
   "cell_type": "markdown",
   "metadata": {},
   "source": [
    "<b> Bar Graph<b>"
   ]
  },
  {
   "cell_type": "markdown",
   "metadata": {},
   "source": [
    "Lets try to plot total user counts for different seasons using bargraph."
   ]
  },
  {
   "cell_type": "code",
   "execution_count": null,
   "metadata": {},
   "outputs": [],
   "source": [
    "fig, axes = plt.subplots(2, 2)  # 2x2 grid of axes\n",
    "\n",
    "axes[0, 0].plot([1, 2], [3, 4])\n",
    "axes[0, 1].plot([1, 2], [4, 3])\n",
    "axes[1, 0].plot([1, 2], [5, 6])\n",
    "axes[1, 1].plot([1, 2], [6, 5])\n",
    "\n",
    "plt.tight_layout()\n",
    "plt.show()\n"
   ]
  },
  {
   "cell_type": "code",
   "execution_count": null,
   "metadata": {},
   "outputs": [],
   "source": [
    "figure, ax = plt.subplots()\n",
    "#This line creates an array index containing evenly spaced values from 0 to 3.\n",
    "index = np.arange(4)\n",
    "bar_width=0.5\n",
    "\n",
    "df_by_season = bikes.groupby(\"season\")\n",
    "#create a bar plot on the subplot ax.\n",
    "#index specifies the x-coordinates of the bars.\n",
    "#df_by_season.cnt.sum() calculates the sum of the \"cnt\" column for each group of seasons.\n",
    "#bar_width specifies the width of the bars.\n",
    "ax.bar(index, df_by_season.cnt.sum(), bar_width)\n",
    "plt.show()"
   ]
  },
  {
   "cell_type": "markdown",
   "metadata": {},
   "source": [
    "<b> Scatter plot<b>"
   ]
  },
  {
   "cell_type": "markdown",
   "metadata": {},
   "source": [
    "Lets compare two numeric attributes like casual user count and registered user count."
   ]
  },
  {
   "cell_type": "code",
   "execution_count": null,
   "metadata": {},
   "outputs": [],
   "source": [
    "fig, ax = plt.subplots()\n",
    "\n",
    "ax.scatter(bikes.casual, bikes.registered)\n",
    "\n",
    "plt.show()"
   ]
  },
  {
   "cell_type": "markdown",
   "metadata": {},
   "source": [
    "<b> Pie plot<b>"
   ]
  },
  {
   "cell_type": "markdown",
   "metadata": {},
   "source": [
    "Lets try plotting a pie chart."
   ]
  },
  {
   "cell_type": "code",
   "execution_count": null,
   "metadata": {},
   "outputs": [],
   "source": [
    "fig, ax = plt.subplots()\n",
    "\n",
    "df_by_season = bikes.groupby(\"season\")\n",
    "labels = [\"s1\", \"s2\", \"s3\", \"s4\"]\n",
    "\n",
    "#ax.pie(df_by_season.cnt.sum(), labels = bikes.season.unique())\n",
    "ax.pie(df_by_season.cnt.sum(), labels = labels)\n",
    "\n",
    "plt.show()"
   ]
  }
 ],
 "metadata": {
  "kernelspec": {
   "display_name": "Python 3 (ipykernel)",
   "language": "python",
   "name": "python3"
  },
  "language_info": {
   "codemirror_mode": {
    "name": "ipython",
    "version": 3
   },
   "file_extension": ".py",
   "mimetype": "text/x-python",
   "name": "python",
   "nbconvert_exporter": "python",
   "pygments_lexer": "ipython3",
   "version": "3.12.3"
  }
 },
 "nbformat": 4,
 "nbformat_minor": 4
}
