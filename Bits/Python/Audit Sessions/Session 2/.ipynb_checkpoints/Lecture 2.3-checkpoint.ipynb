{
 "cells": [
  {
   "cell_type": "markdown",
   "id": "32e387f0",
   "metadata": {},
   "source": [
    "<b> Loops in Python </b> "
   ]
  },
  {
   "cell_type": "markdown",
   "id": "37aadbcf",
   "metadata": {},
   "source": [
    "while loop \n",
    "\n",
    "while condition:\n",
    "-block of statements"
   ]
  },
  {
   "cell_type": "code",
   "execution_count": 2,
   "id": "e9a19668",
   "metadata": {},
   "outputs": [
    {
     "name": "stdout",
     "output_type": "stream",
     "text": [
      "3\n",
      "4\n",
      "I am outside the while loop\n"
     ]
    }
   ],
   "source": [
    "i = 3 #iteration variable\n",
    "\n",
    "while i < 5:\n",
    "    print(i) #body of while loop\n",
    "    i = i + 1\n",
    "print(\"I am outside the while loop\")"
   ]
  },
  {
   "cell_type": "code",
   "execution_count": 6,
   "id": "cca3fd49",
   "metadata": {},
   "outputs": [
    {
     "name": "stdout",
     "output_type": "stream",
     "text": [
      "The total marks is,  185\n",
      "Average score is  37.0\n"
     ]
    }
   ],
   "source": [
    "marks_list = [10,45,23,31,76]\n",
    "\n",
    "totalMarks = 0 # total score variable \n",
    "student_count = len(marks_list) # number of students \n",
    "\n",
    "index = 0 # iteration variable \n",
    "\n",
    "while index < student_count:\n",
    "    # perform summation \n",
    "    totalMarks += marks_list[index] #i.e. totalMarks = totalMarks + marks_list[index]\n",
    "    index = index + 1\n",
    "    \n",
    "#compute the avg \n",
    "avg = totalMarks/student_count\n",
    "\n",
    "print(\"The total marks is, \", totalMarks)\n",
    "print(\"Average score is \", avg)"
   ]
  },
  {
   "cell_type": "markdown",
   "id": "98a40441",
   "metadata": {},
   "source": [
    "<b> Break statement </b> "
   ]
  },
  {
   "cell_type": "code",
   "execution_count": 9,
   "id": "911ddee4",
   "metadata": {},
   "outputs": [
    {
     "name": "stdout",
     "output_type": "stream",
     "text": [
      "i= 1\n",
      "i= 2\n",
      "i= 3\n",
      "i= 4\n",
      "I am outside the loop\n"
     ]
    }
   ],
   "source": [
    "i = 0 \n",
    "while i < 10:\n",
    "    i = i+1\n",
    "    if i == 5:\n",
    "        break #break in action\n",
    "    print(\"i=\", i)\n",
    "print(\"I am outside the loop\")"
   ]
  },
  {
   "cell_type": "markdown",
   "id": "aba6ae11",
   "metadata": {},
   "source": [
    "<b> Continue statement <b> "
   ]
  },
  {
   "cell_type": "code",
   "execution_count": 12,
   "id": "f351891f",
   "metadata": {},
   "outputs": [
    {
     "name": "stdout",
     "output_type": "stream",
     "text": [
      "P\n",
      "y\n",
      "t\n",
      "h\n",
      "n\n"
     ]
    }
   ],
   "source": [
    "#continue: Skip the rest of the current iteration and move to the next iteration\n",
    "for ch in \"Python\":\n",
    "    if ch=='o':\n",
    "        continue\n",
    "    print(ch)"
   ]
  },
  {
   "cell_type": "code",
   "execution_count": 13,
   "id": "cfcb2800",
   "metadata": {},
   "outputs": [
    {
     "name": "stdout",
     "output_type": "stream",
     "text": [
      "P\n",
      "y\n",
      "t\n",
      "h\n"
     ]
    }
   ],
   "source": [
    "# break: immediately terminates the loop's execution and resumes execution at the next statement after the loop.\n",
    "for ch in \"Python\":\n",
    "    if ch=='o':\n",
    "        break\n",
    "    print(ch)"
   ]
  },
  {
   "cell_type": "markdown",
   "id": "e12054fb",
   "metadata": {},
   "source": [
    "<b> For loop </b> "
   ]
  },
  {
   "cell_type": "code",
   "execution_count": 14,
   "id": "94d2ef3f",
   "metadata": {},
   "outputs": [
    {
     "name": "stdout",
     "output_type": "stream",
     "text": [
      "10\n",
      "20\n",
      "5\n",
      "7\n",
      "hello\n",
      "world\n",
      "bye\n"
     ]
    }
   ],
   "source": [
    "list = [10,20,5,7,\"hello\", \"world\", \"bye\"]\n",
    "\n",
    "for i in list:\n",
    "    print(i)"
   ]
  },
  {
   "cell_type": "code",
   "execution_count": 15,
   "id": "f7740f41",
   "metadata": {},
   "outputs": [
    {
     "name": "stdout",
     "output_type": "stream",
     "text": [
      "0\n",
      "1\n",
      "2\n"
     ]
    }
   ],
   "source": [
    "for i in range(3):\n",
    "    print(i)"
   ]
  },
  {
   "cell_type": "code",
   "execution_count": 16,
   "id": "85541cfe",
   "metadata": {},
   "outputs": [
    {
     "name": "stdout",
     "output_type": "stream",
     "text": [
      "5\n",
      "6\n",
      "7\n"
     ]
    }
   ],
   "source": [
    "#range(start, stop -1, step)\n",
    "\n",
    "for i in range(5,8):\n",
    "    print(i)"
   ]
  },
  {
   "cell_type": "code",
   "execution_count": 17,
   "id": "60a4cdef",
   "metadata": {},
   "outputs": [
    {
     "name": "stdout",
     "output_type": "stream",
     "text": [
      "50\n",
      "52\n",
      "54\n",
      "56\n",
      "58\n",
      "60\n",
      "62\n",
      "64\n",
      "66\n",
      "68\n",
      "70\n",
      "72\n",
      "74\n",
      "76\n",
      "78\n"
     ]
    }
   ],
   "source": [
    "for i in range(50,80,2):\n",
    "    print(i)"
   ]
  },
  {
   "cell_type": "code",
   "execution_count": null,
   "id": "e70adb1e",
   "metadata": {},
   "outputs": [],
   "source": []
  }
 ],
 "metadata": {
  "kernelspec": {
   "display_name": "Python 3 (ipykernel)",
   "language": "python",
   "name": "python3"
  },
  "language_info": {
   "codemirror_mode": {
    "name": "ipython",
    "version": 3
   },
   "file_extension": ".py",
   "mimetype": "text/x-python",
   "name": "python",
   "nbconvert_exporter": "python",
   "pygments_lexer": "ipython3",
   "version": "3.11.7"
  }
 },
 "nbformat": 4,
 "nbformat_minor": 5
}
