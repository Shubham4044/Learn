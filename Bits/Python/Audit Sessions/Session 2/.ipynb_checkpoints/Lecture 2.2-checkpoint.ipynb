{
 "cells": [
  {
   "cell_type": "markdown",
   "id": "6a8293ec",
   "metadata": {},
   "source": [
    "<b> Conditions in Python </b> "
   ]
  },
  {
   "cell_type": "markdown",
   "id": "affafbb2",
   "metadata": {},
   "source": [
    "<b> If statements </b> "
   ]
  },
  {
   "cell_type": "code",
   "execution_count": 5,
   "id": "4736748f",
   "metadata": {},
   "outputs": [
    {
     "name": "stdin",
     "output_type": "stream",
     "text": [
      "Enter the number: 5\n"
     ]
    },
    {
     "name": "stdout",
     "output_type": "stream",
     "text": [
      "You entered 5\n",
      "10\n",
      "I am going to excecute always!! I am outside the condition\n"
     ]
    }
   ],
   "source": [
    "number1 = int(input(\"Enter the number:\"))\n",
    "\n",
    "if number1 == 5: #if condition\n",
    "  number1 = number1 + 5\n",
    "  print(\"You entered 5\") #body of the if condn\n",
    "  print(number1)\n",
    "    \n",
    "print(\"I am going to excecute always!! I am outside the condition\") # outside the if condn"
   ]
  },
  {
   "cell_type": "code",
   "execution_count": 5,
   "id": "5c26812e",
   "metadata": {},
   "outputs": [
    {
     "name": "stdout",
     "output_type": "stream",
     "text": [
      "Enter the number:3\n",
      "You entered a number less than 5\n",
      "=================================\n",
      "I am going to excecute always!! I am outside the condition\n"
     ]
    }
   ],
   "source": [
    "#if-else example \n",
    "\n",
    "\n",
    "number1 = int(input(\"Enter the number:\"))\n",
    "\n",
    "if number1 <= 5: #if condition\n",
    "    print(\"You entered a number less than 5\") #body of the if condn\n",
    "    print(\"=================================\")\n",
    "else:\n",
    "    print(\"You entered a number greater than 5\") #body of else stat\n",
    "    print(\"=================================\")\n",
    "    \n",
    "print(\"I am going to excecute always!! I am outside the condition\") # outside the if condn\n"
   ]
  },
  {
   "cell_type": "code",
   "execution_count": 8,
   "id": "ee253ad6",
   "metadata": {},
   "outputs": [
    {
     "name": "stdout",
     "output_type": "stream",
     "text": [
      "Enter the number:100\n",
      "You entered a number greater than 5\n",
      "=================================\n",
      "I am going to excecute always!! I am outside the condition\n"
     ]
    }
   ],
   "source": [
    "# Chained if example \n",
    "\n",
    "number1 = int(input(\"Enter the number:\"))\n",
    "\n",
    "if number1 == 5: #if condition\n",
    "    print(\"You entered 5\") #body of the if condn\n",
    "    print(\"=================================\")\n",
    "elif number1 < 5:\n",
    "    print(\"You entered a number less than 5\") #body of the elif condn\n",
    "    print(\"=================================\")    \n",
    "else: \n",
    "    print(\"You entered a number greater than 5\") #body of else stat\n",
    "    print(\"=================================\")\n",
    "    \n",
    "print(\"I am going to excecute always!! I am outside the condition\") # outside the if condn"
   ]
  },
  {
   "cell_type": "code",
   "execution_count": 16,
   "id": "83355627",
   "metadata": {},
   "outputs": [
    {
     "name": "stdout",
     "output_type": "stream",
     "text": [
      "Enter the mark:101\n",
      "Reattempt\n"
     ]
    }
   ],
   "source": [
    "mark = int(input(\"Enter the mark:\"))\n",
    "\n",
    "if mark >=80 and mark<=100:\n",
    "    print(\"Congrats!\")\n",
    "    print(\"You got distinction...\")\n",
    "elif mark >=60 and mark <80:\n",
    "    print(\"You got first class\")\n",
    "elif mark >=40 and mark <60:\n",
    "    print(\"You for second class\")\n",
    "elif mark >=0:\n",
    "    print(\"Reattempt\")\n",
    "else:\n",
    "    print(\"Invalid mark\")\n"
   ]
  },
  {
   "cell_type": "code",
   "execution_count": 22,
   "id": "efe92d32",
   "metadata": {},
   "outputs": [
    {
     "name": "stdout",
     "output_type": "stream",
     "text": [
      "Enter the mark:30\n",
      "You failed\n",
      "--------------------------------------\n"
     ]
    }
   ],
   "source": [
    "#Nested if and chained if (in the else part) example \n",
    "mark = int(input(\"Enter the mark:\"))\n",
    "\n",
    "if mark > 100 or mark < 0:\n",
    "    print(\"You entered a wrong / invalid mark\") #if body\n",
    "else:\n",
    "    if mark >=80 and mark<=100:\n",
    "        print(\"Congrats!\")\n",
    "        print(\"You got distinction...\")\n",
    "    elif mark >=60 and mark <80:\n",
    "        print(\"You got first class\")\n",
    "    elif mark >=40 and mark <60:\n",
    "        print(\"You for second class\")\n",
    "    else:\n",
    "        print(\"You failed\")\n",
    "print(\"--------------------------------------\")"
   ]
  },
  {
   "cell_type": "code",
   "execution_count": 25,
   "id": "b50bd939",
   "metadata": {},
   "outputs": [
    {
     "name": "stdout",
     "output_type": "stream",
     "text": [
      "Enter the number:4\n"
     ]
    },
    {
     "ename": "TypeError",
     "evalue": "'>' not supported between instances of 'str' and 'int'",
     "output_type": "error",
     "traceback": [
      "\u001b[1;31m---------------------------------------------------------------------------\u001b[0m",
      "\u001b[1;31mTypeError\u001b[0m                                 Traceback (most recent call last)",
      "Cell \u001b[1;32mIn[25], line 3\u001b[0m\n\u001b[0;32m      1\u001b[0m number1 \u001b[38;5;241m=\u001b[39m \u001b[38;5;28minput\u001b[39m(\u001b[38;5;124m\"\u001b[39m\u001b[38;5;124mEnter the number:\u001b[39m\u001b[38;5;124m\"\u001b[39m)\n\u001b[1;32m----> 3\u001b[0m \u001b[38;5;28;01mif\u001b[39;00m \u001b[43mnumber1\u001b[49m\u001b[43m \u001b[49m\u001b[38;5;241;43m>\u001b[39;49m\u001b[43m \u001b[49m\u001b[38;5;241;43m5\u001b[39;49m: \u001b[38;5;66;03m#if condition\u001b[39;00m\n\u001b[0;32m      4\u001b[0m     \u001b[38;5;28mprint\u001b[39m(\u001b[38;5;124m\"\u001b[39m\u001b[38;5;124mYou entered 5\u001b[39m\u001b[38;5;124m\"\u001b[39m) \u001b[38;5;66;03m#body of the if condn\u001b[39;00m\n\u001b[0;32m      6\u001b[0m \u001b[38;5;28mprint\u001b[39m(\u001b[38;5;124m\"\u001b[39m\u001b[38;5;124mI am going to excecute always!! I am outside the condition\u001b[39m\u001b[38;5;124m\"\u001b[39m)\n",
      "\u001b[1;31mTypeError\u001b[0m: '>' not supported between instances of 'str' and 'int'"
     ]
    }
   ],
   "source": [
    "number1 = input(\"Enter the number:\")\n",
    "\n",
    "if number1 > 5: #if condition\n",
    "    print(\"You entered 5\") #body of the if condn\n",
    "    \n",
    "print(\"I am going to excecute always!! I am outside the condition\") # outside the if condn"
   ]
  },
  {
   "cell_type": "code",
   "execution_count": 9,
   "id": "8b3e6a9d",
   "metadata": {},
   "outputs": [
    {
     "name": "stdin",
     "output_type": "stream",
     "text": [
      "Enter the number: 5\n"
     ]
    },
    {
     "name": "stdout",
     "output_type": "stream",
     "text": [
      "I am going to excecute always!! I am outside the condition\n"
     ]
    }
   ],
   "source": [
    "try:\n",
    "    number1 = input(\"Enter the number:\")\n",
    "    if number1 > 5: #if condition\n",
    "        print(\"You entered 5\") #body of the if condn\n",
    "except Exception as e:\n",
    "    pass\n",
    "    #print(\"There is some error\", e)\n",
    "finally:    \n",
    "    print(\"I am going to excecute always!! I am outside the condition\") # outside the if condn"
   ]
  },
  {
   "cell_type": "code",
   "execution_count": 8,
   "id": "42633499",
   "metadata": {},
   "outputs": [
    {
     "name": "stdout",
     "output_type": "stream",
     "text": [
      "app run success\n"
     ]
    }
   ],
   "source": [
    "#print the traceback information along with the error message, helping understand the context in which the exception occurred and debug the code effectively\n",
    "try:\n",
    "    c= 1/0\n",
    "except:\n",
    "    pass\n",
    "finally:    \n",
    "    print(\"app run success\") # outside the if condn"
   ]
  },
  {
   "cell_type": "code",
   "execution_count": null,
   "id": "df9a9d36-a167-4553-a5df-05467ea2b1e3",
   "metadata": {},
   "outputs": [],
   "source": []
  }
 ],
 "metadata": {
  "kernelspec": {
   "display_name": "Python 3 (ipykernel)",
   "language": "python",
   "name": "python3"
  },
  "language_info": {
   "codemirror_mode": {
    "name": "ipython",
    "version": 3
   },
   "file_extension": ".py",
   "mimetype": "text/x-python",
   "name": "python",
   "nbconvert_exporter": "python",
   "pygments_lexer": "ipython3",
   "version": "3.11.7"
  }
 },
 "nbformat": 4,
 "nbformat_minor": 5
}
