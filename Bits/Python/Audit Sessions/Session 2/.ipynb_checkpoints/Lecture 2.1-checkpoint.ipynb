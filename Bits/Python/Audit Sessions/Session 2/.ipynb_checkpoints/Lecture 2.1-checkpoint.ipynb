{
 "cells": [
  {
   "cell_type": "markdown",
   "id": "3e27dcc1",
   "metadata": {},
   "source": [
    "<b> String Manipulations </b>"
   ]
  },
  {
   "cell_type": "code",
   "execution_count": 1,
   "id": "46eaa9ee",
   "metadata": {},
   "outputs": [],
   "source": [
    "my_string = \"this is my string\""
   ]
  },
  {
   "cell_type": "code",
   "execution_count": 2,
   "id": "5c418f40",
   "metadata": {},
   "outputs": [
    {
     "data": {
      "text/plain": [
       "str"
      ]
     },
     "execution_count": 2,
     "metadata": {},
     "output_type": "execute_result"
    }
   ],
   "source": [
    "type(my_string)"
   ]
  },
  {
   "cell_type": "code",
   "execution_count": 3,
   "id": "079cbb38",
   "metadata": {},
   "outputs": [],
   "source": [
    "string = \"this is my string           \""
   ]
  },
  {
   "cell_type": "code",
   "execution_count": 4,
   "id": "6fbb9029",
   "metadata": {},
   "outputs": [
    {
     "data": {
      "text/plain": [
       "'this is my string           '"
      ]
     },
     "execution_count": 4,
     "metadata": {},
     "output_type": "execute_result"
    }
   ],
   "source": [
    "string"
   ]
  },
  {
   "cell_type": "code",
   "execution_count": 5,
   "id": "c355465d",
   "metadata": {},
   "outputs": [
    {
     "data": {
      "text/plain": [
       "28"
      ]
     },
     "execution_count": 5,
     "metadata": {},
     "output_type": "execute_result"
    }
   ],
   "source": [
    "len(string)"
   ]
  },
  {
   "cell_type": "code",
   "execution_count": 6,
   "id": "77fd8c9e",
   "metadata": {},
   "outputs": [
    {
     "data": {
      "text/plain": [
       "'this is my string'"
      ]
     },
     "execution_count": 6,
     "metadata": {},
     "output_type": "execute_result"
    }
   ],
   "source": [
    "string.rstrip()"
   ]
  },
  {
   "cell_type": "code",
   "execution_count": 7,
   "id": "e0d45816",
   "metadata": {},
   "outputs": [],
   "source": [
    "string = \"                this is my string           \""
   ]
  },
  {
   "cell_type": "code",
   "execution_count": 8,
   "id": "417c7e12",
   "metadata": {},
   "outputs": [
    {
     "data": {
      "text/plain": [
       "'                this is my string           '"
      ]
     },
     "execution_count": 8,
     "metadata": {},
     "output_type": "execute_result"
    }
   ],
   "source": [
    "string"
   ]
  },
  {
   "cell_type": "code",
   "execution_count": 9,
   "id": "99833255",
   "metadata": {},
   "outputs": [
    {
     "data": {
      "text/plain": [
       "'this is my string           '"
      ]
     },
     "execution_count": 9,
     "metadata": {},
     "output_type": "execute_result"
    }
   ],
   "source": [
    "string.lstrip()"
   ]
  },
  {
   "cell_type": "code",
   "execution_count": 10,
   "id": "1fd1d00f",
   "metadata": {},
   "outputs": [
    {
     "data": {
      "text/plain": [
       "'this is my string'"
      ]
     },
     "execution_count": 10,
     "metadata": {},
     "output_type": "execute_result"
    }
   ],
   "source": [
    "string.strip()"
   ]
  },
  {
   "cell_type": "code",
   "execution_count": 11,
   "id": "1f40a23e",
   "metadata": {},
   "outputs": [],
   "source": [
    "string = \"@@@@@@@@this is my string$$$$$$\""
   ]
  },
  {
   "cell_type": "code",
   "execution_count": 12,
   "id": "42a6d8b3",
   "metadata": {},
   "outputs": [
    {
     "data": {
      "text/plain": [
       "'@@@@@@@@this is my string'"
      ]
     },
     "execution_count": 12,
     "metadata": {},
     "output_type": "execute_result"
    }
   ],
   "source": [
    "string.rstrip(\"$\")"
   ]
  },
  {
   "cell_type": "code",
   "execution_count": 13,
   "id": "329a9691",
   "metadata": {},
   "outputs": [
    {
     "data": {
      "text/plain": [
       "'this is my string$$$$$$'"
      ]
     },
     "execution_count": 13,
     "metadata": {},
     "output_type": "execute_result"
    }
   ],
   "source": [
    "string.lstrip(\"@\")"
   ]
  },
  {
   "cell_type": "code",
   "execution_count": 14,
   "id": "3a118b56",
   "metadata": {},
   "outputs": [],
   "source": [
    "data = \"saleem 10 20 30\""
   ]
  },
  {
   "cell_type": "code",
   "execution_count": 15,
   "id": "13678e2d",
   "metadata": {},
   "outputs": [
    {
     "data": {
      "text/plain": [
       "'saleem 10 20 30'"
      ]
     },
     "execution_count": 15,
     "metadata": {},
     "output_type": "execute_result"
    }
   ],
   "source": [
    "data"
   ]
  },
  {
   "cell_type": "code",
   "execution_count": 16,
   "id": "64b99fab",
   "metadata": {},
   "outputs": [],
   "source": [
    "splitted_Data = data.split()"
   ]
  },
  {
   "cell_type": "code",
   "execution_count": 17,
   "id": "f1348eee",
   "metadata": {},
   "outputs": [
    {
     "name": "stdout",
     "output_type": "stream",
     "text": [
      "['saleem', '10', '20', '30']\n"
     ]
    }
   ],
   "source": [
    "print(splitted_Data)"
   ]
  },
  {
   "cell_type": "code",
   "execution_count": 18,
   "id": "9316b3f1",
   "metadata": {},
   "outputs": [
    {
     "data": {
      "text/plain": [
       "['saleem', '10', '20', '30']"
      ]
     },
     "execution_count": 18,
     "metadata": {},
     "output_type": "execute_result"
    }
   ],
   "source": [
    "splitted_Data"
   ]
  },
  {
   "cell_type": "code",
   "execution_count": 19,
   "id": "33a2bc95",
   "metadata": {},
   "outputs": [
    {
     "data": {
      "text/plain": [
       "list"
      ]
     },
     "execution_count": 19,
     "metadata": {},
     "output_type": "execute_result"
    }
   ],
   "source": [
    "type(splitted_Data)"
   ]
  },
  {
   "cell_type": "code",
   "execution_count": 20,
   "id": "23877ed8",
   "metadata": {},
   "outputs": [
    {
     "data": {
      "text/plain": [
       "'saleem'"
      ]
     },
     "execution_count": 20,
     "metadata": {},
     "output_type": "execute_result"
    }
   ],
   "source": [
    "splitted_Data[0]"
   ]
  },
  {
   "cell_type": "code",
   "execution_count": 21,
   "id": "a8803d05",
   "metadata": {},
   "outputs": [
    {
     "data": {
      "text/plain": [
       "'20'"
      ]
     },
     "execution_count": 21,
     "metadata": {},
     "output_type": "execute_result"
    }
   ],
   "source": [
    "splitted_Data[2]"
   ]
  },
  {
   "cell_type": "code",
   "execution_count": 23,
   "id": "9706405e",
   "metadata": {},
   "outputs": [],
   "source": [
    "line_Data = \"ajit,10,14,28\""
   ]
  },
  {
   "cell_type": "code",
   "execution_count": 24,
   "id": "5ba6a249",
   "metadata": {},
   "outputs": [
    {
     "data": {
      "text/plain": [
       "'ajit,10,14,28'"
      ]
     },
     "execution_count": 24,
     "metadata": {},
     "output_type": "execute_result"
    }
   ],
   "source": [
    "line_Data"
   ]
  },
  {
   "cell_type": "code",
   "execution_count": 25,
   "id": "c9378823",
   "metadata": {},
   "outputs": [
    {
     "data": {
      "text/plain": [
       "['ajit', '10', '14', '28']"
      ]
     },
     "execution_count": 25,
     "metadata": {},
     "output_type": "execute_result"
    }
   ],
   "source": [
    "line_Data.split(\",\")"
   ]
  },
  {
   "cell_type": "code",
   "execution_count": 26,
   "id": "5f50b959",
   "metadata": {},
   "outputs": [
    {
     "data": {
      "text/plain": [
       "0"
      ]
     },
     "execution_count": 26,
     "metadata": {},
     "output_type": "execute_result"
    }
   ],
   "source": [
    "line_Data.find(\"ajit\")"
   ]
  },
  {
   "cell_type": "code",
   "execution_count": 28,
   "id": "54d5a757",
   "metadata": {},
   "outputs": [
    {
     "data": {
      "text/plain": [
       "'ajit,10,14,28'"
      ]
     },
     "execution_count": 28,
     "metadata": {},
     "output_type": "execute_result"
    }
   ],
   "source": [
    "line_Data"
   ]
  },
  {
   "cell_type": "code",
   "execution_count": 29,
   "id": "7df29ce8",
   "metadata": {},
   "outputs": [
    {
     "data": {
      "text/plain": [
       "'bjit,10,14,28'"
      ]
     },
     "execution_count": 29,
     "metadata": {},
     "output_type": "execute_result"
    }
   ],
   "source": [
    "line_Data.replace('a','b')"
   ]
  },
  {
   "cell_type": "code",
   "execution_count": 31,
   "id": "a67e3dc0",
   "metadata": {},
   "outputs": [],
   "source": [
    "name = \"sam\""
   ]
  },
  {
   "cell_type": "code",
   "execution_count": 32,
   "id": "31dbd259",
   "metadata": {},
   "outputs": [
    {
     "name": "stdout",
     "output_type": "stream",
     "text": [
      "sam\n"
     ]
    }
   ],
   "source": [
    "print(name)"
   ]
  },
  {
   "cell_type": "code",
   "execution_count": 33,
   "id": "8e393bca",
   "metadata": {},
   "outputs": [
    {
     "data": {
      "text/plain": [
       "str"
      ]
     },
     "execution_count": 33,
     "metadata": {},
     "output_type": "execute_result"
    }
   ],
   "source": [
    "type(name)"
   ]
  },
  {
   "cell_type": "code",
   "execution_count": 34,
   "id": "790aac16",
   "metadata": {},
   "outputs": [
    {
     "data": {
      "text/plain": [
       "2260620361520"
      ]
     },
     "execution_count": 34,
     "metadata": {},
     "output_type": "execute_result"
    }
   ],
   "source": [
    "# id() function is a built-in function that returns the unique identifier which represents the memory address of the object.\n",
    "id(name)"
   ]
  },
  {
   "cell_type": "code",
   "execution_count": 35,
   "id": "65da4d0a",
   "metadata": {},
   "outputs": [],
   "source": [
    "name = \"ram\""
   ]
  },
  {
   "cell_type": "code",
   "execution_count": 36,
   "id": "a5ad233f",
   "metadata": {},
   "outputs": [
    {
     "name": "stdout",
     "output_type": "stream",
     "text": [
      "ram\n"
     ]
    }
   ],
   "source": [
    "print(name)"
   ]
  },
  {
   "cell_type": "code",
   "execution_count": 37,
   "id": "70f83d7b",
   "metadata": {},
   "outputs": [
    {
     "data": {
      "text/plain": [
       "2260620487472"
      ]
     },
     "execution_count": 37,
     "metadata": {},
     "output_type": "execute_result"
    }
   ],
   "source": [
    "id(name)"
   ]
  },
  {
   "cell_type": "code",
   "execution_count": 38,
   "id": "323cb77b",
   "metadata": {},
   "outputs": [],
   "source": [
    "lastExample = \"this is my new string\""
   ]
  },
  {
   "cell_type": "code",
   "execution_count": 40,
   "id": "59a47b7f",
   "metadata": {},
   "outputs": [
    {
     "ename": "TypeError",
     "evalue": "'str' object does not support item assignment",
     "output_type": "error",
     "traceback": [
      "\u001b[1;31m---------------------------------------------------------------------------\u001b[0m",
      "\u001b[1;31mTypeError\u001b[0m                                 Traceback (most recent call last)",
      "Cell \u001b[1;32mIn[40], line 1\u001b[0m\n\u001b[1;32m----> 1\u001b[0m lastExample[\u001b[38;5;241m6\u001b[39m] \u001b[38;5;241m=\u001b[39m \u001b[38;5;124m'\u001b[39m\u001b[38;5;124mf\u001b[39m\u001b[38;5;124m'\u001b[39m\n",
      "\u001b[1;31mTypeError\u001b[0m: 'str' object does not support item assignment"
     ]
    }
   ],
   "source": [
    "lastExample[6] = 'f' #strings are immutable"
   ]
  },
  {
   "cell_type": "markdown",
   "id": "736a376b",
   "metadata": {},
   "source": [
    "<b> Tuples </b>"
   ]
  },
  {
   "cell_type": "code",
   "execution_count": 42,
   "id": "6017036e",
   "metadata": {},
   "outputs": [],
   "source": [
    "my_tuple = (1,1.4,'aaditi',True)"
   ]
  },
  {
   "cell_type": "code",
   "execution_count": 43,
   "id": "d22b4bf0",
   "metadata": {},
   "outputs": [
    {
     "data": {
      "text/plain": [
       "tuple"
      ]
     },
     "execution_count": 43,
     "metadata": {},
     "output_type": "execute_result"
    }
   ],
   "source": [
    "type(my_tuple)"
   ]
  },
  {
   "cell_type": "code",
   "execution_count": 44,
   "id": "d4fb4255",
   "metadata": {},
   "outputs": [
    {
     "data": {
      "text/plain": [
       "(1, 1.4, 'aaditi', True)"
      ]
     },
     "execution_count": 44,
     "metadata": {},
     "output_type": "execute_result"
    }
   ],
   "source": [
    "my_tuple"
   ]
  },
  {
   "cell_type": "code",
   "execution_count": 45,
   "id": "2e4d04d0",
   "metadata": {},
   "outputs": [
    {
     "data": {
      "text/plain": [
       "4"
      ]
     },
     "execution_count": 45,
     "metadata": {},
     "output_type": "execute_result"
    }
   ],
   "source": [
    "len(my_tuple)"
   ]
  },
  {
   "cell_type": "code",
   "execution_count": 46,
   "id": "1e0e943d",
   "metadata": {},
   "outputs": [
    {
     "data": {
      "text/plain": [
       "'aaditi'"
      ]
     },
     "execution_count": 46,
     "metadata": {},
     "output_type": "execute_result"
    }
   ],
   "source": [
    "my_tuple[2]"
   ]
  },
  {
   "cell_type": "code",
   "execution_count": 47,
   "id": "74940cc0",
   "metadata": {},
   "outputs": [
    {
     "ename": "TypeError",
     "evalue": "'tuple' object does not support item assignment",
     "output_type": "error",
     "traceback": [
      "\u001b[1;31m---------------------------------------------------------------------------\u001b[0m",
      "\u001b[1;31mTypeError\u001b[0m                                 Traceback (most recent call last)",
      "Cell \u001b[1;32mIn[47], line 1\u001b[0m\n\u001b[1;32m----> 1\u001b[0m my_tuple[\u001b[38;5;241m2\u001b[39m] \u001b[38;5;241m=\u001b[39m \u001b[38;5;124m\"\u001b[39m\u001b[38;5;124mrishi\u001b[39m\u001b[38;5;124m\"\u001b[39m\n",
      "\u001b[1;31mTypeError\u001b[0m: 'tuple' object does not support item assignment"
     ]
    }
   ],
   "source": [
    "my_tuple[2] = \"rishi\" # because tuples are immutable"
   ]
  },
  {
   "cell_type": "code",
   "execution_count": 48,
   "id": "a4a59c67",
   "metadata": {},
   "outputs": [],
   "source": [
    "my_tuple = (1,2.4,\"rishi\", False)"
   ]
  },
  {
   "cell_type": "code",
   "execution_count": 49,
   "id": "4ad4e3bf",
   "metadata": {},
   "outputs": [
    {
     "data": {
      "text/plain": [
       "(1, 2.4, 'rishi', False)"
      ]
     },
     "execution_count": 49,
     "metadata": {},
     "output_type": "execute_result"
    }
   ],
   "source": [
    "my_tuple"
   ]
  },
  {
   "cell_type": "code",
   "execution_count": 50,
   "id": "bf6ac787",
   "metadata": {},
   "outputs": [
    {
     "data": {
      "text/plain": [
       "'rishi'"
      ]
     },
     "execution_count": 50,
     "metadata": {},
     "output_type": "execute_result"
    }
   ],
   "source": [
    "my_tuple[2]"
   ]
  },
  {
   "cell_type": "code",
   "execution_count": 51,
   "id": "619ef723",
   "metadata": {},
   "outputs": [
    {
     "data": {
      "text/plain": [
       "str"
      ]
     },
     "execution_count": 51,
     "metadata": {},
     "output_type": "execute_result"
    }
   ],
   "source": [
    "type(my_tuple[2])"
   ]
  },
  {
   "cell_type": "code",
   "execution_count": 52,
   "id": "8ea62c0e",
   "metadata": {},
   "outputs": [
    {
     "data": {
      "text/plain": [
       "tuple"
      ]
     },
     "execution_count": 52,
     "metadata": {},
     "output_type": "execute_result"
    }
   ],
   "source": [
    "type(my_tuple)"
   ]
  },
  {
   "cell_type": "code",
   "execution_count": 53,
   "id": "ef71dcdc",
   "metadata": {},
   "outputs": [
    {
     "data": {
      "text/plain": [
       "float"
      ]
     },
     "execution_count": 53,
     "metadata": {},
     "output_type": "execute_result"
    }
   ],
   "source": [
    "type(my_tuple[1])"
   ]
  },
  {
   "cell_type": "code",
   "execution_count": 54,
   "id": "cc24a8c7",
   "metadata": {},
   "outputs": [],
   "source": [
    "tuple1 = (1,2,3,4)\n",
    "tuple2 = (9,8,7,6)"
   ]
  },
  {
   "cell_type": "code",
   "execution_count": 55,
   "id": "d6756d1c",
   "metadata": {},
   "outputs": [
    {
     "data": {
      "text/plain": [
       "(1, 2, 3, 4)"
      ]
     },
     "execution_count": 55,
     "metadata": {},
     "output_type": "execute_result"
    }
   ],
   "source": [
    "tuple1"
   ]
  },
  {
   "cell_type": "code",
   "execution_count": 56,
   "id": "4172da75",
   "metadata": {},
   "outputs": [
    {
     "data": {
      "text/plain": [
       "(9, 8, 7, 6)"
      ]
     },
     "execution_count": 56,
     "metadata": {},
     "output_type": "execute_result"
    }
   ],
   "source": [
    "tuple2"
   ]
  },
  {
   "cell_type": "code",
   "execution_count": 57,
   "id": "b495690e",
   "metadata": {},
   "outputs": [
    {
     "data": {
      "text/plain": [
       "(1, 2, 3, 4, 9, 8, 7, 6)"
      ]
     },
     "execution_count": 57,
     "metadata": {},
     "output_type": "execute_result"
    }
   ],
   "source": [
    "tuple1 + tuple2"
   ]
  },
  {
   "cell_type": "code",
   "execution_count": 59,
   "id": "a0fe44e2",
   "metadata": {},
   "outputs": [],
   "source": [
    "tupleresults = tuple1 * 3"
   ]
  },
  {
   "cell_type": "code",
   "execution_count": 67,
   "id": "cfdeff9f",
   "metadata": {},
   "outputs": [],
   "source": [
    "tuple = (1)"
   ]
  },
  {
   "cell_type": "code",
   "execution_count": 68,
   "id": "1412ec15",
   "metadata": {},
   "outputs": [
    {
     "data": {
      "text/plain": [
       "1"
      ]
     },
     "execution_count": 68,
     "metadata": {},
     "output_type": "execute_result"
    }
   ],
   "source": [
    "tuple"
   ]
  },
  {
   "cell_type": "code",
   "execution_count": 69,
   "id": "98cdd44c",
   "metadata": {},
   "outputs": [
    {
     "data": {
      "text/plain": [
       "int"
      ]
     },
     "execution_count": 69,
     "metadata": {},
     "output_type": "execute_result"
    }
   ],
   "source": [
    "type(tuple)"
   ]
  },
  {
   "cell_type": "code",
   "execution_count": 60,
   "id": "87a24d73",
   "metadata": {},
   "outputs": [
    {
     "data": {
      "text/plain": [
       "tuple"
      ]
     },
     "execution_count": 60,
     "metadata": {},
     "output_type": "execute_result"
    }
   ],
   "source": [
    "type(tupleresults)"
   ]
  },
  {
   "cell_type": "code",
   "execution_count": 61,
   "id": "8fb6a33e",
   "metadata": {},
   "outputs": [
    {
     "data": {
      "text/plain": [
       "(1, 2, 3, 4)"
      ]
     },
     "execution_count": 61,
     "metadata": {},
     "output_type": "execute_result"
    }
   ],
   "source": [
    "tuple1"
   ]
  },
  {
   "cell_type": "code",
   "execution_count": 63,
   "id": "6f94fbf5",
   "metadata": {},
   "outputs": [],
   "source": [
    "tuple1 = (10,2,3,4)"
   ]
  },
  {
   "cell_type": "code",
   "execution_count": 64,
   "id": "1bf2afe4",
   "metadata": {},
   "outputs": [
    {
     "data": {
      "text/plain": [
       "(10, 2, 3, 4)"
      ]
     },
     "execution_count": 64,
     "metadata": {},
     "output_type": "execute_result"
    }
   ],
   "source": [
    "tuple1"
   ]
  },
  {
   "cell_type": "code",
   "execution_count": 65,
   "id": "5a8a006b",
   "metadata": {},
   "outputs": [
    {
     "ename": "AttributeError",
     "evalue": "'tuple' object has no attribute 'append'",
     "output_type": "error",
     "traceback": [
      "\u001b[1;31m---------------------------------------------------------------------------\u001b[0m",
      "\u001b[1;31mAttributeError\u001b[0m                            Traceback (most recent call last)",
      "Cell \u001b[1;32mIn[65], line 1\u001b[0m\n\u001b[1;32m----> 1\u001b[0m \u001b[43mtuple1\u001b[49m\u001b[38;5;241;43m.\u001b[39;49m\u001b[43mappend\u001b[49m(\u001b[38;5;241m100\u001b[39m)\n",
      "\u001b[1;31mAttributeError\u001b[0m: 'tuple' object has no attribute 'append'"
     ]
    }
   ],
   "source": [
    "tuple1.append(100)"
   ]
  },
  {
   "cell_type": "code",
   "execution_count": 66,
   "id": "0522f2d2",
   "metadata": {},
   "outputs": [
    {
     "data": {
      "text/plain": [
       "(1, 2, 3, 4, 1, 2, 3, 4, 1, 2, 3, 4)"
      ]
     },
     "execution_count": 66,
     "metadata": {},
     "output_type": "execute_result"
    }
   ],
   "source": [
    "tupleresults"
   ]
  },
  {
   "cell_type": "code",
   "execution_count": 74,
   "id": "043b50ca",
   "metadata": {},
   "outputs": [],
   "source": [
    "a = (\"new\",2)"
   ]
  },
  {
   "cell_type": "code",
   "execution_count": 75,
   "id": "11604512",
   "metadata": {},
   "outputs": [
    {
     "data": {
      "text/plain": [
       "tuple"
      ]
     },
     "execution_count": 75,
     "metadata": {},
     "output_type": "execute_result"
    }
   ],
   "source": [
    "type(a)"
   ]
  },
  {
   "cell_type": "markdown",
   "id": "1305d685",
   "metadata": {},
   "source": [
    "<b> Lists </b>"
   ]
  },
  {
   "cell_type": "code",
   "execution_count": 76,
   "id": "87663bb8",
   "metadata": {},
   "outputs": [],
   "source": [
    "my_empty_list = []"
   ]
  },
  {
   "cell_type": "code",
   "execution_count": 77,
   "id": "eb60f41b",
   "metadata": {},
   "outputs": [
    {
     "data": {
      "text/plain": [
       "list"
      ]
     },
     "execution_count": 77,
     "metadata": {},
     "output_type": "execute_result"
    }
   ],
   "source": [
    "type(my_empty_list)"
   ]
  },
  {
   "cell_type": "code",
   "execution_count": 78,
   "id": "9b388776",
   "metadata": {},
   "outputs": [],
   "source": [
    "tuple1 = ()"
   ]
  },
  {
   "cell_type": "code",
   "execution_count": 79,
   "id": "88b931d8",
   "metadata": {},
   "outputs": [
    {
     "data": {
      "text/plain": [
       "tuple"
      ]
     },
     "execution_count": 79,
     "metadata": {},
     "output_type": "execute_result"
    }
   ],
   "source": [
    "type(tuple1)"
   ]
  },
  {
   "cell_type": "code",
   "execution_count": 80,
   "id": "7ab07eb7",
   "metadata": {},
   "outputs": [],
   "source": [
    "my_list = [1,2.5,3,True, 'Shilpi', 100]"
   ]
  },
  {
   "cell_type": "code",
   "execution_count": 81,
   "id": "a941dd4c",
   "metadata": {},
   "outputs": [
    {
     "data": {
      "text/plain": [
       "list"
      ]
     },
     "execution_count": 81,
     "metadata": {},
     "output_type": "execute_result"
    }
   ],
   "source": [
    "type(my_list)"
   ]
  },
  {
   "cell_type": "code",
   "execution_count": 82,
   "id": "81d4d6e5",
   "metadata": {},
   "outputs": [
    {
     "data": {
      "text/plain": [
       "6"
      ]
     },
     "execution_count": 82,
     "metadata": {},
     "output_type": "execute_result"
    }
   ],
   "source": [
    "len(my_list)"
   ]
  },
  {
   "cell_type": "code",
   "execution_count": 83,
   "id": "87f1985c",
   "metadata": {},
   "outputs": [
    {
     "data": {
      "text/plain": [
       "1"
      ]
     },
     "execution_count": 83,
     "metadata": {},
     "output_type": "execute_result"
    }
   ],
   "source": [
    "my_list[0]"
   ]
  },
  {
   "cell_type": "code",
   "execution_count": 84,
   "id": "e9d02a7a",
   "metadata": {},
   "outputs": [
    {
     "data": {
      "text/plain": [
       "[1, 2.5, 3]"
      ]
     },
     "execution_count": 84,
     "metadata": {},
     "output_type": "execute_result"
    }
   ],
   "source": [
    "my_list[0:3]"
   ]
  },
  {
   "cell_type": "code",
   "execution_count": 85,
   "id": "f401188a",
   "metadata": {},
   "outputs": [
    {
     "data": {
      "text/plain": [
       "[3, True, 'Shilpi', 100]"
      ]
     },
     "execution_count": 85,
     "metadata": {},
     "output_type": "execute_result"
    }
   ],
   "source": [
    "my_list[2:]"
   ]
  },
  {
   "cell_type": "code",
   "execution_count": 86,
   "id": "3905910b",
   "metadata": {},
   "outputs": [],
   "source": [
    "list1 = [10,20,30]"
   ]
  },
  {
   "cell_type": "code",
   "execution_count": 87,
   "id": "ddf244b5",
   "metadata": {},
   "outputs": [
    {
     "data": {
      "text/plain": [
       "2260636431680"
      ]
     },
     "execution_count": 87,
     "metadata": {},
     "output_type": "execute_result"
    }
   ],
   "source": [
    "id(list1)"
   ]
  },
  {
   "cell_type": "code",
   "execution_count": 88,
   "id": "39db7b32",
   "metadata": {},
   "outputs": [
    {
     "data": {
      "text/plain": [
       "20"
      ]
     },
     "execution_count": 88,
     "metadata": {},
     "output_type": "execute_result"
    }
   ],
   "source": [
    "list1[1]"
   ]
  },
  {
   "cell_type": "code",
   "execution_count": 89,
   "id": "232d87e2",
   "metadata": {},
   "outputs": [],
   "source": [
    "list1[1] = 200"
   ]
  },
  {
   "cell_type": "code",
   "execution_count": 90,
   "id": "c87fe616",
   "metadata": {},
   "outputs": [
    {
     "data": {
      "text/plain": [
       "[10, 200, 30]"
      ]
     },
     "execution_count": 90,
     "metadata": {},
     "output_type": "execute_result"
    }
   ],
   "source": [
    "list1"
   ]
  },
  {
   "cell_type": "code",
   "execution_count": 91,
   "id": "cafe298c",
   "metadata": {},
   "outputs": [
    {
     "data": {
      "text/plain": [
       "2260636431680"
      ]
     },
     "execution_count": 91,
     "metadata": {},
     "output_type": "execute_result"
    }
   ],
   "source": [
    "id(list1)"
   ]
  },
  {
   "cell_type": "code",
   "execution_count": 94,
   "id": "4b35ff3d",
   "metadata": {},
   "outputs": [
    {
     "name": "stdout",
     "output_type": "stream",
     "text": [
      "1\n",
      "2.5\n",
      "3\n",
      "True\n",
      "Shilpi\n",
      "100\n"
     ]
    }
   ],
   "source": [
    "for simran in my_list:\n",
    "    print(simran)"
   ]
  },
  {
   "cell_type": "code",
   "execution_count": 93,
   "id": "9e12cf96",
   "metadata": {},
   "outputs": [
    {
     "data": {
      "text/plain": [
       "[10, 200, 30]"
      ]
     },
     "execution_count": 93,
     "metadata": {},
     "output_type": "execute_result"
    }
   ],
   "source": [
    "list1"
   ]
  },
  {
   "cell_type": "code",
   "execution_count": 95,
   "id": "3beb81e5",
   "metadata": {},
   "outputs": [],
   "source": [
    "list1.append(500)"
   ]
  },
  {
   "cell_type": "code",
   "execution_count": 96,
   "id": "2dba13fc",
   "metadata": {},
   "outputs": [
    {
     "data": {
      "text/plain": [
       "[10, 200, 30, 500]"
      ]
     },
     "execution_count": 96,
     "metadata": {},
     "output_type": "execute_result"
    }
   ],
   "source": [
    "list1"
   ]
  },
  {
   "cell_type": "code",
   "execution_count": 97,
   "id": "ba838831",
   "metadata": {},
   "outputs": [],
   "source": [
    "list1.append(\"new\")"
   ]
  },
  {
   "cell_type": "code",
   "execution_count": 98,
   "id": "38253387",
   "metadata": {},
   "outputs": [
    {
     "data": {
      "text/plain": [
       "[10, 200, 30, 500, 'new']"
      ]
     },
     "execution_count": 98,
     "metadata": {},
     "output_type": "execute_result"
    }
   ],
   "source": [
    "list1"
   ]
  },
  {
   "cell_type": "code",
   "execution_count": 99,
   "id": "2b15a549",
   "metadata": {},
   "outputs": [],
   "source": [
    "list1.append([1,2])"
   ]
  },
  {
   "cell_type": "code",
   "execution_count": 100,
   "id": "1e78bee1",
   "metadata": {},
   "outputs": [
    {
     "data": {
      "text/plain": [
       "[10, 200, 30, 500, 'new', [1, 2]]"
      ]
     },
     "execution_count": 100,
     "metadata": {},
     "output_type": "execute_result"
    }
   ],
   "source": [
    "list1"
   ]
  },
  {
   "cell_type": "code",
   "execution_count": 101,
   "id": "ed0c169a",
   "metadata": {},
   "outputs": [],
   "source": [
    "list1.extend([90,45])"
   ]
  },
  {
   "cell_type": "code",
   "execution_count": 102,
   "id": "ceab8c58",
   "metadata": {},
   "outputs": [
    {
     "data": {
      "text/plain": [
       "[10, 200, 30, 500, 'new', [1, 2], 90, 45]"
      ]
     },
     "execution_count": 102,
     "metadata": {},
     "output_type": "execute_result"
    }
   ],
   "source": [
    "list1"
   ]
  },
  {
   "cell_type": "code",
   "execution_count": null,
   "id": "aa5a218d",
   "metadata": {},
   "outputs": [],
   "source": [
    "#Try to do tuple inside a list!"
   ]
  },
  {
   "cell_type": "code",
   "execution_count": 103,
   "id": "c50fdcd6",
   "metadata": {},
   "outputs": [],
   "source": [
    "list1.remove('new')"
   ]
  },
  {
   "cell_type": "code",
   "execution_count": 104,
   "id": "3d33e943",
   "metadata": {},
   "outputs": [
    {
     "data": {
      "text/plain": [
       "[10, 200, 30, 500, [1, 2], 90, 45]"
      ]
     },
     "execution_count": 104,
     "metadata": {},
     "output_type": "execute_result"
    }
   ],
   "source": [
    "list1"
   ]
  },
  {
   "cell_type": "code",
   "execution_count": 105,
   "id": "e1340592",
   "metadata": {},
   "outputs": [],
   "source": [
    "list1.reverse()"
   ]
  },
  {
   "cell_type": "code",
   "execution_count": 106,
   "id": "c8e16e7f",
   "metadata": {},
   "outputs": [
    {
     "data": {
      "text/plain": [
       "[45, 90, [1, 2], 500, 30, 200, 10]"
      ]
     },
     "execution_count": 106,
     "metadata": {},
     "output_type": "execute_result"
    }
   ],
   "source": [
    "list1"
   ]
  },
  {
   "cell_type": "code",
   "execution_count": 107,
   "id": "e51f87f3",
   "metadata": {},
   "outputs": [
    {
     "data": {
      "text/plain": [
       "10"
      ]
     },
     "execution_count": 107,
     "metadata": {},
     "output_type": "execute_result"
    }
   ],
   "source": [
    "list1.pop()"
   ]
  },
  {
   "cell_type": "code",
   "execution_count": 108,
   "id": "52d91e8e",
   "metadata": {},
   "outputs": [],
   "source": [
    "l = [10,50,6,3,67,83,12]"
   ]
  },
  {
   "cell_type": "code",
   "execution_count": 109,
   "id": "7c851ec8",
   "metadata": {},
   "outputs": [
    {
     "data": {
      "text/plain": [
       "231"
      ]
     },
     "execution_count": 109,
     "metadata": {},
     "output_type": "execute_result"
    }
   ],
   "source": [
    "sum(l)"
   ]
  },
  {
   "cell_type": "code",
   "execution_count": 110,
   "id": "6991a121",
   "metadata": {},
   "outputs": [
    {
     "data": {
      "text/plain": [
       "3"
      ]
     },
     "execution_count": 110,
     "metadata": {},
     "output_type": "execute_result"
    }
   ],
   "source": [
    "min(l)"
   ]
  },
  {
   "cell_type": "code",
   "execution_count": 111,
   "id": "253bbca3",
   "metadata": {},
   "outputs": [
    {
     "data": {
      "text/plain": [
       "83"
      ]
     },
     "execution_count": 111,
     "metadata": {},
     "output_type": "execute_result"
    }
   ],
   "source": [
    "max(l)"
   ]
  },
  {
   "cell_type": "code",
   "execution_count": 117,
   "id": "775b45e6",
   "metadata": {},
   "outputs": [
    {
     "name": "stdout",
     "output_type": "stream",
     "text": [
      "Help on NoneType object:\n",
      "\n",
      "class NoneType(object)\n",
      " |  Methods defined here:\n",
      " |  \n",
      " |  __bool__(self, /)\n",
      " |      True if self else False\n",
      " |  \n",
      " |  __repr__(self, /)\n",
      " |      Return repr(self).\n",
      " |  \n",
      " |  ----------------------------------------------------------------------\n",
      " |  Static methods defined here:\n",
      " |  \n",
      " |  __new__(*args, **kwargs) from builtins.type\n",
      " |      Create and return a new object.  See help(type) for accurate signature.\n",
      "\n"
     ]
    }
   ],
   "source": [
    "help(l.sort())"
   ]
  },
  {
   "cell_type": "code",
   "execution_count": 113,
   "id": "298b41ae",
   "metadata": {},
   "outputs": [
    {
     "data": {
      "text/plain": [
       "[3, 6, 10, 12, 50, 67, 83]"
      ]
     },
     "execution_count": 113,
     "metadata": {},
     "output_type": "execute_result"
    }
   ],
   "source": [
    "l"
   ]
  },
  {
   "cell_type": "code",
   "execution_count": 118,
   "id": "4d7584a2",
   "metadata": {},
   "outputs": [],
   "source": [
    "l.sort(reverse=True)"
   ]
  },
  {
   "cell_type": "code",
   "execution_count": 119,
   "id": "36ce1999",
   "metadata": {},
   "outputs": [
    {
     "data": {
      "text/plain": [
       "[83, 67, 50, 12, 10, 6, 3]"
      ]
     },
     "execution_count": 119,
     "metadata": {},
     "output_type": "execute_result"
    }
   ],
   "source": [
    "l"
   ]
  },
  {
   "cell_type": "code",
   "execution_count": 120,
   "id": "0dcbb223",
   "metadata": {},
   "outputs": [],
   "source": [
    "#Difference between list and tupple\n",
    "\n",
    "\n",
    "list = [1,2,3,4]\n",
    "tup = (1,2,3,4)"
   ]
  },
  {
   "cell_type": "code",
   "execution_count": 121,
   "id": "7614510f",
   "metadata": {},
   "outputs": [],
   "source": [
    "list[0] = 1000"
   ]
  },
  {
   "cell_type": "code",
   "execution_count": 122,
   "id": "49d24d4d",
   "metadata": {},
   "outputs": [
    {
     "data": {
      "text/plain": [
       "[1000, 2, 3, 4]"
      ]
     },
     "execution_count": 122,
     "metadata": {},
     "output_type": "execute_result"
    }
   ],
   "source": [
    "list"
   ]
  },
  {
   "cell_type": "code",
   "execution_count": 123,
   "id": "f97fa76d",
   "metadata": {},
   "outputs": [
    {
     "ename": "TypeError",
     "evalue": "'tuple' object does not support item assignment",
     "output_type": "error",
     "traceback": [
      "\u001b[1;31m---------------------------------------------------------------------------\u001b[0m",
      "\u001b[1;31mTypeError\u001b[0m                                 Traceback (most recent call last)",
      "Cell \u001b[1;32mIn[123], line 1\u001b[0m\n\u001b[1;32m----> 1\u001b[0m tup[\u001b[38;5;241m0\u001b[39m] \u001b[38;5;241m=\u001b[39m \u001b[38;5;241m1000\u001b[39m\n",
      "\u001b[1;31mTypeError\u001b[0m: 'tuple' object does not support item assignment"
     ]
    }
   ],
   "source": [
    "tup[0] = 1000"
   ]
  },
  {
   "cell_type": "code",
   "execution_count": 124,
   "id": "a3013b40",
   "metadata": {},
   "outputs": [
    {
     "data": {
      "text/plain": [
       "[1000, 2, 3, 4]"
      ]
     },
     "execution_count": 124,
     "metadata": {},
     "output_type": "execute_result"
    }
   ],
   "source": [
    "list"
   ]
  },
  {
   "cell_type": "code",
   "execution_count": 126,
   "id": "8048af60",
   "metadata": {},
   "outputs": [
    {
     "data": {
      "text/plain": [
       "True"
      ]
     },
     "execution_count": 126,
     "metadata": {},
     "output_type": "execute_result"
    }
   ],
   "source": [
    "2 in list"
   ]
  },
  {
   "cell_type": "code",
   "execution_count": 127,
   "id": "8ed7746d",
   "metadata": {},
   "outputs": [
    {
     "data": {
      "text/plain": [
       "False"
      ]
     },
     "execution_count": 127,
     "metadata": {},
     "output_type": "execute_result"
    }
   ],
   "source": [
    "2000 in list"
   ]
  },
  {
   "cell_type": "code",
   "execution_count": 128,
   "id": "8a473221",
   "metadata": {},
   "outputs": [
    {
     "data": {
      "text/plain": [
       "(1, 2, 3, 4)"
      ]
     },
     "execution_count": 128,
     "metadata": {},
     "output_type": "execute_result"
    }
   ],
   "source": [
    "tup"
   ]
  },
  {
   "cell_type": "code",
   "execution_count": 130,
   "id": "923ad8c7",
   "metadata": {},
   "outputs": [
    {
     "data": {
      "text/plain": [
       "False"
      ]
     },
     "execution_count": 130,
     "metadata": {},
     "output_type": "execute_result"
    }
   ],
   "source": [
    "40 in tup"
   ]
  },
  {
   "cell_type": "code",
   "execution_count": 131,
   "id": "8290e905",
   "metadata": {},
   "outputs": [
    {
     "data": {
      "text/plain": [
       "False"
      ]
     },
     "execution_count": 131,
     "metadata": {},
     "output_type": "execute_result"
    }
   ],
   "source": [
    "2 not in list"
   ]
  },
  {
   "cell_type": "code",
   "execution_count": 132,
   "id": "9dbb72d0",
   "metadata": {},
   "outputs": [
    {
     "data": {
      "text/plain": [
       "True"
      ]
     },
     "execution_count": 132,
     "metadata": {},
     "output_type": "execute_result"
    }
   ],
   "source": [
    "20 not in list"
   ]
  },
  {
   "cell_type": "code",
   "execution_count": 133,
   "id": "04285021",
   "metadata": {},
   "outputs": [],
   "source": [
    "import math"
   ]
  },
  {
   "cell_type": "markdown",
   "id": "edce2d59",
   "metadata": {},
   "source": [
    "<b> Sets </b> "
   ]
  },
  {
   "cell_type": "code",
   "execution_count": 140,
   "id": "b926f60b",
   "metadata": {},
   "outputs": [],
   "source": [
    "my_set = {1,1,2,4,5,6,3,1,3,9,7}"
   ]
  },
  {
   "cell_type": "code",
   "execution_count": 141,
   "id": "4145add4",
   "metadata": {},
   "outputs": [
    {
     "data": {
      "text/plain": [
       "set"
      ]
     },
     "execution_count": 141,
     "metadata": {},
     "output_type": "execute_result"
    }
   ],
   "source": [
    "type(my_set)"
   ]
  },
  {
   "cell_type": "code",
   "execution_count": 142,
   "id": "d13d8ce9",
   "metadata": {},
   "outputs": [
    {
     "data": {
      "text/plain": [
       "{1, 2, 3, 4, 5, 6, 7, 9}"
      ]
     },
     "execution_count": 142,
     "metadata": {},
     "output_type": "execute_result"
    }
   ],
   "source": [
    "my_set"
   ]
  },
  {
   "cell_type": "code",
   "execution_count": 139,
   "id": "d9ccb2c0",
   "metadata": {},
   "outputs": [
    {
     "data": {
      "text/plain": [
       "7"
      ]
     },
     "execution_count": 139,
     "metadata": {},
     "output_type": "execute_result"
    }
   ],
   "source": [
    "len(my_set)"
   ]
  },
  {
   "cell_type": "code",
   "execution_count": 143,
   "id": "814d712d",
   "metadata": {},
   "outputs": [],
   "source": [
    "my_set.add(100)"
   ]
  },
  {
   "cell_type": "code",
   "execution_count": 144,
   "id": "ca7be46c",
   "metadata": {},
   "outputs": [
    {
     "data": {
      "text/plain": [
       "{1, 2, 3, 4, 5, 6, 7, 9, 100}"
      ]
     },
     "execution_count": 144,
     "metadata": {},
     "output_type": "execute_result"
    }
   ],
   "source": [
    "my_set"
   ]
  },
  {
   "cell_type": "code",
   "execution_count": 145,
   "id": "3c2ec65f",
   "metadata": {},
   "outputs": [
    {
     "data": {
      "text/plain": [
       "1"
      ]
     },
     "execution_count": 145,
     "metadata": {},
     "output_type": "execute_result"
    }
   ],
   "source": [
    "my_set.pop()"
   ]
  },
  {
   "cell_type": "code",
   "execution_count": 146,
   "id": "194e144b",
   "metadata": {},
   "outputs": [
    {
     "data": {
      "text/plain": [
       "{2, 3, 4, 5, 6, 7, 9, 100}"
      ]
     },
     "execution_count": 146,
     "metadata": {},
     "output_type": "execute_result"
    }
   ],
   "source": [
    "my_set"
   ]
  },
  {
   "cell_type": "code",
   "execution_count": 147,
   "id": "3fd0dd6c",
   "metadata": {},
   "outputs": [],
   "source": [
    "my_set.remove(5)"
   ]
  },
  {
   "cell_type": "code",
   "execution_count": 148,
   "id": "2aa11514",
   "metadata": {},
   "outputs": [
    {
     "data": {
      "text/plain": [
       "{2, 3, 4, 6, 7, 9, 100}"
      ]
     },
     "execution_count": 148,
     "metadata": {},
     "output_type": "execute_result"
    }
   ],
   "source": [
    "my_set"
   ]
  },
  {
   "cell_type": "code",
   "execution_count": 151,
   "id": "354390a0",
   "metadata": {},
   "outputs": [],
   "source": [
    "my_set.discard(9)"
   ]
  },
  {
   "cell_type": "code",
   "execution_count": 152,
   "id": "ac4db3d6",
   "metadata": {},
   "outputs": [
    {
     "data": {
      "text/plain": [
       "{2, 3, 4, 6, 7}"
      ]
     },
     "execution_count": 152,
     "metadata": {},
     "output_type": "execute_result"
    }
   ],
   "source": [
    "my_set"
   ]
  },
  {
   "cell_type": "code",
   "execution_count": 153,
   "id": "e119543a",
   "metadata": {},
   "outputs": [],
   "source": [
    "set1 = {1,2,3,4,5,6}\n",
    "set2 = {4,2,8,9,10}\n",
    "set3= {3,4,5}"
   ]
  },
  {
   "cell_type": "code",
   "execution_count": 154,
   "id": "fbbabdf3",
   "metadata": {},
   "outputs": [
    {
     "data": {
      "text/plain": [
       "{4}"
      ]
     },
     "execution_count": 154,
     "metadata": {},
     "output_type": "execute_result"
    }
   ],
   "source": [
    "# the intersection of sets is an operation that results in a new set containing only the elements that are common to all the given sets\n",
    "set1 & set2 & set3"
   ]
  },
  {
   "cell_type": "code",
   "execution_count": 156,
   "id": "98309d07",
   "metadata": {},
   "outputs": [
    {
     "data": {
      "text/plain": [
       "{4}"
      ]
     },
     "execution_count": 156,
     "metadata": {},
     "output_type": "execute_result"
    }
   ],
   "source": [
    "#The intersection of two given sets is the largest set, which contains all the elements that are common to both sets\n",
    "set1.intersection(set2).intersection(set3)"
   ]
  },
  {
   "cell_type": "code",
   "execution_count": 157,
   "id": "70705a86",
   "metadata": {},
   "outputs": [
    {
     "data": {
      "text/plain": [
       "{1, 2, 3, 4, 5, 6, 8, 9, 10}"
      ]
     },
     "execution_count": 157,
     "metadata": {},
     "output_type": "execute_result"
    }
   ],
   "source": [
    "# union of sets is an operation that combines all the unique elements from the given sets into a single set, without duplicates.\n",
    "set1 | set2 | set3 "
   ]
  },
  {
   "cell_type": "code",
   "execution_count": 158,
   "id": "348c025d",
   "metadata": {},
   "outputs": [
    {
     "data": {
      "text/plain": [
       "{1, 2, 3, 4, 5, 6, 8, 9, 10}"
      ]
     },
     "execution_count": 158,
     "metadata": {},
     "output_type": "execute_result"
    }
   ],
   "source": [
    "set1.union(set2)"
   ]
  },
  {
   "cell_type": "code",
   "execution_count": 159,
   "id": "75156d52",
   "metadata": {},
   "outputs": [
    {
     "data": {
      "text/plain": [
       "{1, 3, 5, 6}"
      ]
     },
     "execution_count": 159,
     "metadata": {},
     "output_type": "execute_result"
    }
   ],
   "source": [
    "#elements that are present in set1 but not in set2\n",
    "set1 - set2"
   ]
  },
  {
   "cell_type": "code",
   "execution_count": 160,
   "id": "cb584b14",
   "metadata": {},
   "outputs": [
    {
     "data": {
      "text/plain": [
       "{1, 3, 5, 6}"
      ]
     },
     "execution_count": 160,
     "metadata": {},
     "output_type": "execute_result"
    }
   ],
   "source": [
    "set1.difference(set2)"
   ]
  },
  {
   "cell_type": "code",
   "execution_count": 161,
   "id": "5c697c54",
   "metadata": {},
   "outputs": [],
   "source": [
    "my_set = {1, \"hello\", \"false\", False}"
   ]
  },
  {
   "cell_type": "code",
   "execution_count": 162,
   "id": "a6fa6f54",
   "metadata": {},
   "outputs": [
    {
     "data": {
      "text/plain": [
       "{1, False, 'false', 'hello'}"
      ]
     },
     "execution_count": 162,
     "metadata": {},
     "output_type": "execute_result"
    }
   ],
   "source": [
    "my_set"
   ]
  },
  {
   "cell_type": "code",
   "execution_count": 163,
   "id": "2aef60e7",
   "metadata": {},
   "outputs": [
    {
     "data": {
      "text/plain": [
       "set"
      ]
     },
     "execution_count": 163,
     "metadata": {},
     "output_type": "execute_result"
    }
   ],
   "source": [
    "type(my_set)"
   ]
  },
  {
   "cell_type": "code",
   "execution_count": 164,
   "id": "208b34f6",
   "metadata": {},
   "outputs": [
    {
     "ename": "TypeError",
     "evalue": "'set' object is not subscriptable",
     "output_type": "error",
     "traceback": [
      "\u001b[1;31m---------------------------------------------------------------------------\u001b[0m",
      "\u001b[1;31mTypeError\u001b[0m                                 Traceback (most recent call last)",
      "Cell \u001b[1;32mIn[164], line 1\u001b[0m\n\u001b[1;32m----> 1\u001b[0m \u001b[43mmy_set\u001b[49m\u001b[43m[\u001b[49m\u001b[38;5;241;43m2\u001b[39;49m\u001b[43m]\u001b[49m\n",
      "\u001b[1;31mTypeError\u001b[0m: 'set' object is not subscriptable"
     ]
    }
   ],
   "source": [
    "my_set[2]"
   ]
  },
  {
   "cell_type": "code",
   "execution_count": null,
   "id": "55b8ee75",
   "metadata": {},
   "outputs": [],
   "source": [
    "\"this is 123\" vs (1,6,True, \"String\")"
   ]
  },
  {
   "cell_type": "code",
   "execution_count": 165,
   "id": "6aebcd45",
   "metadata": {},
   "outputs": [
    {
     "data": {
      "text/plain": [
       "{1, 3, 5, 6}"
      ]
     },
     "execution_count": 165,
     "metadata": {},
     "output_type": "execute_result"
    }
   ],
   "source": [
    "set1 - set2"
   ]
  },
  {
   "cell_type": "code",
   "execution_count": 166,
   "id": "aec73c7e",
   "metadata": {},
   "outputs": [],
   "source": [
    "set1 = {1,1,1,1,1}\n",
    "tup = (1,1,1,1)"
   ]
  },
  {
   "cell_type": "code",
   "execution_count": 167,
   "id": "78376341",
   "metadata": {},
   "outputs": [
    {
     "data": {
      "text/plain": [
       "{1}"
      ]
     },
     "execution_count": 167,
     "metadata": {},
     "output_type": "execute_result"
    }
   ],
   "source": [
    "set1"
   ]
  },
  {
   "cell_type": "code",
   "execution_count": 168,
   "id": "ce12b6f3",
   "metadata": {},
   "outputs": [
    {
     "data": {
      "text/plain": [
       "(1, 1, 1, 1)"
      ]
     },
     "execution_count": 168,
     "metadata": {},
     "output_type": "execute_result"
    }
   ],
   "source": [
    "tup"
   ]
  },
  {
   "cell_type": "markdown",
   "id": "75d2c9d8",
   "metadata": {},
   "source": [
    "<b> Dictionary <b> "
   ]
  },
  {
   "cell_type": "code",
   "execution_count": 172,
   "id": "f618e520",
   "metadata": {},
   "outputs": [],
   "source": [
    "my_dict = {1: \"naresh\", 2: \"akhil\", 3: \"devi\"}"
   ]
  },
  {
   "cell_type": "code",
   "execution_count": 173,
   "id": "0be4bb6c",
   "metadata": {},
   "outputs": [
    {
     "data": {
      "text/plain": [
       "dict"
      ]
     },
     "execution_count": 173,
     "metadata": {},
     "output_type": "execute_result"
    }
   ],
   "source": [
    "type(my_dict)"
   ]
  },
  {
   "cell_type": "code",
   "execution_count": 174,
   "id": "2806a47f",
   "metadata": {},
   "outputs": [
    {
     "data": {
      "text/plain": [
       "{1: 'naresh', 2: 'akhil', 3: 'devi'}"
      ]
     },
     "execution_count": 174,
     "metadata": {},
     "output_type": "execute_result"
    }
   ],
   "source": [
    "my_dict"
   ]
  },
  {
   "cell_type": "code",
   "execution_count": 175,
   "id": "927b0b5e",
   "metadata": {},
   "outputs": [],
   "source": [
    "my_dict = {1: \"naresh\", 2: \"devi\", 3: \"devi\"}"
   ]
  },
  {
   "cell_type": "code",
   "execution_count": 176,
   "id": "33a28124",
   "metadata": {},
   "outputs": [
    {
     "data": {
      "text/plain": [
       "{1: 'naresh', 2: 'devi', 3: 'devi'}"
      ]
     },
     "execution_count": 176,
     "metadata": {},
     "output_type": "execute_result"
    }
   ],
   "source": [
    "my_dict"
   ]
  },
  {
   "cell_type": "code",
   "execution_count": 178,
   "id": "1f4ba1b4",
   "metadata": {},
   "outputs": [],
   "source": [
    "my_dict1 = {\"key1\": \"value1\", \"key2\": \"value2\", \"key3\": \"value3\"}"
   ]
  },
  {
   "cell_type": "code",
   "execution_count": 179,
   "id": "e2a45c0c",
   "metadata": {},
   "outputs": [
    {
     "data": {
      "text/plain": [
       "{'key1': 'value1', 'key2': 'value2', 'key3': 'value3'}"
      ]
     },
     "execution_count": 179,
     "metadata": {},
     "output_type": "execute_result"
    }
   ],
   "source": [
    "my_dict1"
   ]
  },
  {
   "cell_type": "code",
   "execution_count": 181,
   "id": "ff8d17d1",
   "metadata": {},
   "outputs": [
    {
     "data": {
      "text/plain": [
       "'value2'"
      ]
     },
     "execution_count": 181,
     "metadata": {},
     "output_type": "execute_result"
    }
   ],
   "source": [
    "my_dict1.get('key2')"
   ]
  },
  {
   "cell_type": "code",
   "execution_count": 183,
   "id": "adfab11f",
   "metadata": {},
   "outputs": [
    {
     "data": {
      "text/plain": [
       "'value1'"
      ]
     },
     "execution_count": 183,
     "metadata": {},
     "output_type": "execute_result"
    }
   ],
   "source": [
    "my_dict1['key1']"
   ]
  },
  {
   "cell_type": "code",
   "execution_count": 184,
   "id": "72f638c3",
   "metadata": {},
   "outputs": [
    {
     "data": {
      "text/plain": [
       "{'key1': 'value1', 'key2': 'value2', 'key3': 'value3'}"
      ]
     },
     "execution_count": 184,
     "metadata": {},
     "output_type": "execute_result"
    }
   ],
   "source": [
    "my_dict1"
   ]
  },
  {
   "cell_type": "code",
   "execution_count": 185,
   "id": "fa09ff1d",
   "metadata": {},
   "outputs": [],
   "source": [
    "my_dict1[\"key4\"] = \"value4\""
   ]
  },
  {
   "cell_type": "code",
   "execution_count": 186,
   "id": "f72b0773",
   "metadata": {},
   "outputs": [
    {
     "data": {
      "text/plain": [
       "{'key1': 'value1', 'key2': 'value2', 'key3': 'value3', 'key4': 'value4'}"
      ]
     },
     "execution_count": 186,
     "metadata": {},
     "output_type": "execute_result"
    }
   ],
   "source": [
    "my_dict1"
   ]
  },
  {
   "cell_type": "code",
   "execution_count": 187,
   "id": "6d926369",
   "metadata": {},
   "outputs": [
    {
     "data": {
      "text/plain": [
       "dict_keys(['key1', 'key2', 'key3', 'key4'])"
      ]
     },
     "execution_count": 187,
     "metadata": {},
     "output_type": "execute_result"
    }
   ],
   "source": [
    "my_dict1.keys()"
   ]
  },
  {
   "cell_type": "code",
   "execution_count": 188,
   "id": "53462dfe",
   "metadata": {},
   "outputs": [
    {
     "data": {
      "text/plain": [
       "dict_keys"
      ]
     },
     "execution_count": 188,
     "metadata": {},
     "output_type": "execute_result"
    }
   ],
   "source": [
    "type(my_dict1.keys())"
   ]
  },
  {
   "cell_type": "code",
   "execution_count": 189,
   "id": "bccfd127",
   "metadata": {},
   "outputs": [
    {
     "data": {
      "text/plain": [
       "dict_values(['value1', 'value2', 'value3', 'value4'])"
      ]
     },
     "execution_count": 189,
     "metadata": {},
     "output_type": "execute_result"
    }
   ],
   "source": [
    "my_dict1.values()"
   ]
  },
  {
   "cell_type": "code",
   "execution_count": 190,
   "id": "fa98f06d",
   "metadata": {},
   "outputs": [],
   "source": [
    "a = 10"
   ]
  },
  {
   "cell_type": "code",
   "execution_count": 191,
   "id": "54142a1d",
   "metadata": {},
   "outputs": [
    {
     "data": {
      "text/plain": [
       "2260513915408"
      ]
     },
     "execution_count": 191,
     "metadata": {},
     "output_type": "execute_result"
    }
   ],
   "source": [
    "id(a)"
   ]
  },
  {
   "cell_type": "code",
   "execution_count": 192,
   "id": "513d2fde",
   "metadata": {},
   "outputs": [],
   "source": [
    "b = 20"
   ]
  },
  {
   "cell_type": "code",
   "execution_count": 193,
   "id": "4bbbac93",
   "metadata": {},
   "outputs": [
    {
     "data": {
      "text/plain": [
       "2260513915728"
      ]
     },
     "execution_count": 193,
     "metadata": {},
     "output_type": "execute_result"
    }
   ],
   "source": [
    "id(b)"
   ]
  },
  {
   "cell_type": "code",
   "execution_count": 196,
   "id": "697f63cd",
   "metadata": {},
   "outputs": [
    {
     "data": {
      "text/plain": [
       "False"
      ]
     },
     "execution_count": 196,
     "metadata": {},
     "output_type": "execute_result"
    }
   ],
   "source": [
    "a is b"
   ]
  },
  {
   "cell_type": "code",
   "execution_count": 197,
   "id": "d384cebf",
   "metadata": {},
   "outputs": [
    {
     "name": "stderr",
     "output_type": "stream",
     "text": [
      "<>:1: SyntaxWarning: \"is\" with a literal. Did you mean \"==\"?\n",
      "<>:1: SyntaxWarning: \"is\" with a literal. Did you mean \"==\"?\n",
      "C:\\Users\\Partha\\AppData\\Local\\Temp\\ipykernel_25316\\2365217341.py:1: SyntaxWarning: \"is\" with a literal. Did you mean \"==\"?\n",
      "  a is 10\n"
     ]
    },
    {
     "data": {
      "text/plain": [
       "True"
      ]
     },
     "execution_count": 197,
     "metadata": {},
     "output_type": "execute_result"
    }
   ],
   "source": [
    "a is 10"
   ]
  },
  {
   "cell_type": "code",
   "execution_count": 198,
   "id": "354db406",
   "metadata": {},
   "outputs": [
    {
     "data": {
      "text/plain": [
       "True"
      ]
     },
     "execution_count": 198,
     "metadata": {},
     "output_type": "execute_result"
    }
   ],
   "source": [
    "a is a"
   ]
  },
  {
   "cell_type": "code",
   "execution_count": 199,
   "id": "c1688160",
   "metadata": {},
   "outputs": [
    {
     "name": "stderr",
     "output_type": "stream",
     "text": [
      "<>:1: SyntaxWarning: \"is\" with a literal. Did you mean \"==\"?\n",
      "<>:1: SyntaxWarning: \"is\" with a literal. Did you mean \"==\"?\n",
      "C:\\Users\\Partha\\AppData\\Local\\Temp\\ipykernel_25316\\976927014.py:1: SyntaxWarning: \"is\" with a literal. Did you mean \"==\"?\n",
      "  a is \"a\"\n"
     ]
    },
    {
     "data": {
      "text/plain": [
       "False"
      ]
     },
     "execution_count": 199,
     "metadata": {},
     "output_type": "execute_result"
    }
   ],
   "source": [
    "a is \"a\""
   ]
  },
  {
   "cell_type": "code",
   "execution_count": 200,
   "id": "6bb4a6a4",
   "metadata": {},
   "outputs": [],
   "source": [
    "a = 10"
   ]
  },
  {
   "cell_type": "code",
   "execution_count": 201,
   "id": "8a338b66",
   "metadata": {},
   "outputs": [
    {
     "data": {
      "text/plain": [
       "True"
      ]
     },
     "execution_count": 201,
     "metadata": {},
     "output_type": "execute_result"
    }
   ],
   "source": [
    "a is a "
   ]
  },
  {
   "cell_type": "code",
   "execution_count": 202,
   "id": "a0a91d1f",
   "metadata": {},
   "outputs": [
    {
     "data": {
      "text/plain": [
       "2260513915408"
      ]
     },
     "execution_count": 202,
     "metadata": {},
     "output_type": "execute_result"
    }
   ],
   "source": [
    "id(a)"
   ]
  },
  {
   "cell_type": "code",
   "execution_count": 203,
   "id": "a0a7d973",
   "metadata": {},
   "outputs": [],
   "source": [
    "p = 100\n",
    "q = 100"
   ]
  },
  {
   "cell_type": "code",
   "execution_count": 204,
   "id": "f5207e22",
   "metadata": {},
   "outputs": [
    {
     "data": {
      "text/plain": [
       "2260513918288"
      ]
     },
     "execution_count": 204,
     "metadata": {},
     "output_type": "execute_result"
    }
   ],
   "source": [
    "id(p)"
   ]
  },
  {
   "cell_type": "code",
   "execution_count": 205,
   "id": "ad3ecd10",
   "metadata": {},
   "outputs": [
    {
     "data": {
      "text/plain": [
       "2260513918288"
      ]
     },
     "execution_count": 205,
     "metadata": {},
     "output_type": "execute_result"
    }
   ],
   "source": [
    "id(q)"
   ]
  },
  {
   "cell_type": "code",
   "execution_count": 206,
   "id": "8952037e",
   "metadata": {},
   "outputs": [
    {
     "data": {
      "text/plain": [
       "True"
      ]
     },
     "execution_count": 206,
     "metadata": {},
     "output_type": "execute_result"
    }
   ],
   "source": [
    "p is q"
   ]
  },
  {
   "cell_type": "code",
   "execution_count": 207,
   "id": "30b1d832",
   "metadata": {},
   "outputs": [],
   "source": [
    "q = q + 1"
   ]
  },
  {
   "cell_type": "code",
   "execution_count": 208,
   "id": "987a15c5",
   "metadata": {},
   "outputs": [
    {
     "data": {
      "text/plain": [
       "2260513918320"
      ]
     },
     "execution_count": 208,
     "metadata": {},
     "output_type": "execute_result"
    }
   ],
   "source": [
    "id(q)"
   ]
  },
  {
   "cell_type": "code",
   "execution_count": 209,
   "id": "578650d1",
   "metadata": {},
   "outputs": [
    {
     "data": {
      "text/plain": [
       "True"
      ]
     },
     "execution_count": 209,
     "metadata": {},
     "output_type": "execute_result"
    }
   ],
   "source": [
    "p is not q"
   ]
  },
  {
   "cell_type": "code",
   "execution_count": null,
   "id": "978962e9",
   "metadata": {},
   "outputs": [],
   "source": []
  },
  {
   "cell_type": "code",
   "execution_count": null,
   "id": "31fe1953",
   "metadata": {},
   "outputs": [],
   "source": []
  }
 ],
 "metadata": {
  "kernelspec": {
   "display_name": "Python 3 (ipykernel)",
   "language": "python",
   "name": "python3"
  },
  "language_info": {
   "codemirror_mode": {
    "name": "ipython",
    "version": 3
   },
   "file_extension": ".py",
   "mimetype": "text/x-python",
   "name": "python",
   "nbconvert_exporter": "python",
   "pygments_lexer": "ipython3",
   "version": "3.11.7"
  }
 },
 "nbformat": 4,
 "nbformat_minor": 5
}
