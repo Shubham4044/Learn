{
 "cells": [
  {
   "cell_type": "markdown",
   "metadata": {},
   "source": [
    "<center> <img src =\"https://i.postimg.cc/1X8H7YYt/BITS-Logo.png\" width = \"400\" alt=\"BITS Pilani Logo\" /> </center>"
   ]
  },
  {
   "cell_type": "markdown",
   "metadata": {},
   "source": [
    "<font color='green'> <h1> <center> Life cycle of a Plot </center> </h1> </font>"
   ]
  },
  {
   "cell_type": "markdown",
   "metadata": {},
   "source": [
    "Lets import the bike rental dataset and understand the life cycle of a plot with it."
   ]
  },
  {
   "cell_type": "markdown",
   "metadata": {},
   "source": [
    "- Prepare the data\n",
    "- Create the figure \n",
    "- Plot the graphs\n",
    "- Styling the plots\n",
    "- Save the plots"
   ]
  },
  {
   "cell_type": "markdown",
   "metadata": {},
   "source": [
    "<b> Prepare the data <b>"
   ]
  },
  {
   "cell_type": "code",
   "execution_count": null,
   "metadata": {},
   "outputs": [],
   "source": [
    "import pandas as pd\n",
    "import numpy as np\n",
    "import matplotlib.pyplot as plt"
   ]
  },
  {
   "cell_type": "code",
   "execution_count": null,
   "metadata": {},
   "outputs": [],
   "source": [
    "bikes = pd.read_csv(\"bike_shairing_hourly.csv\")"
   ]
  },
  {
   "cell_type": "code",
   "execution_count": null,
   "metadata": {},
   "outputs": [],
   "source": [
    "bikes.head(2)"
   ]
  },
  {
   "cell_type": "markdown",
   "metadata": {},
   "source": [
    "<b> Create the figure<b>"
   ]
  },
  {
   "cell_type": "markdown",
   "metadata": {},
   "source": [
    "Lets create an area where plots can be rendered. Its referred as figure."
   ]
  },
  {
   "cell_type": "code",
   "execution_count": null,
   "metadata": {},
   "outputs": [],
   "source": [
    "figure = plt.figure()"
   ]
  },
  {
   "cell_type": "markdown",
   "metadata": {},
   "source": [
    "Figure can have subplot in it which further holds the actual plot in it. "
   ]
  },
  {
   "cell_type": "code",
   "execution_count": null,
   "metadata": {},
   "outputs": [],
   "source": [
    "figure = plt.figure()\n",
    "figure.add_subplot(1,1,1)\n",
    "plot_casual_cnt = plt.plot(bikes.cnt)\n",
    "plt.show()"
   ]
  },
  {
   "cell_type": "markdown",
   "metadata": {},
   "source": [
    "<b> Plot the graphs <b>"
   ]
  },
  {
   "cell_type": "markdown",
   "metadata": {},
   "source": [
    "Figure can have multiple plots in it. "
   ]
  },
  {
   "cell_type": "code",
   "execution_count": null,
   "metadata": {},
   "outputs": [],
   "source": [
    "figure = plt.figure()\n",
    "\n",
    "figure.add_subplot(1, 2, 1) # row, column, panel no\n",
    "plot_casual_cnt = plt.plot(bikes.casual)\n",
    "\n",
    "figure.add_subplot(1, 2, 2)# row, column, panel no\n",
    "plot_registered_cnt = plt.plot(bikes.registered)\n",
    "\n",
    "plt.show()"
   ]
  },
  {
   "cell_type": "markdown",
   "metadata": {},
   "source": [
    "Figure can hold multiple sub plots as well one below the other. Just need to appropriately set the subplots."
   ]
  },
  {
   "cell_type": "code",
   "execution_count": null,
   "metadata": {},
   "outputs": [],
   "source": [
    "figure = plt.figure()\n",
    "\n",
    "figure.add_subplot(2, 1, 1)\n",
    "plot_casual_cnt = plt.plot(bikes.casual)\n",
    "\n",
    "figure.add_subplot(2, 1, 2)\n",
    "plot_registered_cnt = plt.plot(bikes.registered)\n",
    "\n",
    "plt.show()"
   ]
  },
  {
   "cell_type": "markdown",
   "metadata": {},
   "source": [
    "Another example "
   ]
  },
  {
   "cell_type": "code",
   "execution_count": null,
   "metadata": {},
   "outputs": [],
   "source": [
    "fig = plt.figure()\n",
    "\n",
    "plot1 = fig.add_subplot(2, 2, 1)\n",
    "plot1.plot(bikes.casual)\n",
    "\n",
    "plot2 = fig.add_subplot(2, 2, 2)\n",
    "plot2.plot(bikes.registered)\n",
    "\n",
    "plot3 = fig.add_subplot(2, 2, 3)\n",
    "plot3.plot(bikes.season.unique())\n",
    "\n",
    "plot4 = fig.add_subplot(2, 2, 4)\n",
    "plot4.plot(bikes.hr.unique())\n",
    "\n",
    "plt.show()"
   ]
  },
  {
   "cell_type": "markdown",
   "metadata": {},
   "source": [
    "<B> Styling the plots<b>"
   ]
  },
  {
   "cell_type": "markdown",
   "metadata": {},
   "source": [
    "Lets apply some styles on the plots."
   ]
  },
  {
   "cell_type": "code",
   "execution_count": null,
   "metadata": {},
   "outputs": [],
   "source": [
    "plt.style.available"
   ]
  },
  {
   "cell_type": "code",
   "execution_count": null,
   "metadata": {},
   "outputs": [],
   "source": [
    "plt.style.use(\"fivethirtyeight\")"
   ]
  },
  {
   "cell_type": "code",
   "execution_count": null,
   "metadata": {},
   "outputs": [],
   "source": [
    "figure = plt.figure()\n",
    "\n",
    "figure.add_subplot(2, 1, 1)\n",
    "plot_casual_cnt = plt.plot(bikes.casual)\n",
    "\n",
    "figure.add_subplot(2, 1, 2)\n",
    "plot_registered_cnt = plt.plot(bikes.registered)\n",
    "\n",
    "plt.show()"
   ]
  },
  {
   "cell_type": "code",
   "execution_count": null,
   "metadata": {},
   "outputs": [],
   "source": [
    "plt.style.use(\"grayscale\")"
   ]
  },
  {
   "cell_type": "code",
   "execution_count": null,
   "metadata": {},
   "outputs": [],
   "source": [
    "figure = plt.figure()\n",
    "\n",
    "figure.add_subplot(2, 1, 1)\n",
    "plot_casual_cnt = plt.plot(bikes.casual)\n",
    "\n",
    "figure.add_subplot(2, 1, 2)\n",
    "plot_registered_cnt = plt.plot(bikes.registered)\n",
    "\n",
    "plt.show()"
   ]
  },
  {
   "cell_type": "markdown",
   "metadata": {},
   "source": [
    "<b> Save the plots <b> "
   ]
  },
  {
   "cell_type": "code",
   "execution_count": null,
   "metadata": {},
   "outputs": [],
   "source": [
    "figure = plt.figure()\n",
    "\n",
    "figure.add_subplot(1, 1, 1)\n",
    "plt_casual = plt.plot(bikes.casual)\n",
    "\n",
    "plt.savefig(\"plt_casual.png\")"
   ]
  },
  {
   "cell_type": "markdown",
   "metadata": {},
   "source": [
    "Another example"
   ]
  },
  {
   "cell_type": "code",
   "execution_count": null,
   "metadata": {},
   "outputs": [],
   "source": [
    "figure = plt.figure()\n",
    "\n",
    "figure.add_subplot(2, 1, 1)\n",
    "plot_casual_cnt = plt.plot(bikes.casual)\n",
    "\n",
    "figure.add_subplot(2, 1, 2)\n",
    "plot_registered_cnt = plt.plot(bikes.registered)\n",
    "\n",
    "plt.savefig(\"plt.png\")\n",
    "\n",
    "plt.show()"
   ]
  }
 ],
 "metadata": {
  "kernelspec": {
   "display_name": "Python 3 (ipykernel)",
   "language": "python",
   "name": "python3"
  },
  "language_info": {
   "codemirror_mode": {
    "name": "ipython",
    "version": 3
   },
   "file_extension": ".py",
   "mimetype": "text/x-python",
   "name": "python",
   "nbconvert_exporter": "python",
   "pygments_lexer": "ipython3",
   "version": "3.12.3"
  }
 },
 "nbformat": 4,
 "nbformat_minor": 4
}
