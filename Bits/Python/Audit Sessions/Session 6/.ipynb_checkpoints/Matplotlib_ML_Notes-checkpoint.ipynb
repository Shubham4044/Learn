{
 "cells": [
  {
   "cell_type": "markdown",
   "metadata": {},
   "source": [
    "# 📘 Lecture Notes: Matplotlib for Machine Learning\n",
    "\n",
    "Matplotlib is essential for data visualization in machine learning, especially during data exploration and model evaluation."
   ]
  },
  {
   "cell_type": "markdown",
   "metadata": {},
   "source": [
    "<b>What is matplotlib.pyplot?<b>"
   ]
  },
  {
   "cell_type": "markdown",
   "metadata": {},
   "source": [
    "matplotlib.pyplot is a collection of functions that make matplotlib work like MATLAB. Each function makes a change to a figure: \n",
    "for example, it creates a figure, creates a plotting area, plots some lines, labels the axes, and so on."
   ]
  },
  {
   "cell_type": "code",
   "execution_count": null,
   "metadata": {},
   "outputs": [],
   "source": [
    "import matplotlib.pyplot as plt\n",
    "import numpy as np"
   ]
  },
  {
   "cell_type": "markdown",
   "metadata": {},
   "source": [
    "## 📊 1. Basic Plot Types\n",
    "### 1.1 Line Plot"
   ]
  },
  {
   "cell_type": "code",
   "execution_count": null,
   "metadata": {},
   "outputs": [],
   "source": [
    "x = [1, .6, 3, 4]\n",
    "y = [2, 4, 6, 9]\n",
    "plt.plot(x, y)\n",
    "plt.title(\"Line Plot\")\n",
    "plt.xlabel(\"X Axis\")\n",
    "plt.ylabel(\"Y Axis\")\n",
    "plt.grid(True)\n",
    "plt.show()"
   ]
  },
  {
   "cell_type": "markdown",
   "metadata": {},
   "source": [
    "### 1.2 Scatter Plot"
   ]
  },
  {
   "cell_type": "code",
   "execution_count": null,
   "metadata": {},
   "outputs": [],
   "source": [
    "x = np.random.rand(50)\n",
    "y = np.random.rand(50)\n",
    "plt.scatter(x, y, color='blue')\n",
    "plt.title(\"Scatter Plot\")\n",
    "plt.xlabel(\"Feature 1\")\n",
    "plt.ylabel(\"Feature 2\")\n",
    "plt.show()"
   ]
  },
  {
   "cell_type": "markdown",
   "metadata": {},
   "source": [
    "### 1.3 Bar Chart"
   ]
  },
  {
   "cell_type": "code",
   "execution_count": null,
   "metadata": {},
   "outputs": [],
   "source": [
    "categories = ['A', 'B', 'C']\n",
    "values = [10, 24, 36]\n",
    "plt.bar(categories, values, color='green')\n",
    "plt.title(\"Bar Chart\")\n",
    "plt.xlabel(\"Class\")\n",
    "plt.ylabel(\"Frequency\")\n",
    "plt.show()"
   ]
  },
  {
   "cell_type": "markdown",
   "metadata": {},
   "source": [
    "### 1.4 Histogram"
   ]
  },
  {
   "cell_type": "code",
   "execution_count": null,
   "metadata": {},
   "outputs": [],
   "source": [
    "data = np.random.randn(1000)\n",
    "plt.hist(data, bins=10, color='orange')\n",
    "plt.title(\"Histogram\")\n",
    "plt.xlabel(\"Value\")\n",
    "plt.ylabel(\"Frequency\")\n",
    "plt.show()"
   ]
  },
  {
   "cell_type": "markdown",
   "metadata": {},
   "source": [
    "### 1.5 Box Plot"
   ]
  },
  {
   "cell_type": "markdown",
   "metadata": {},
   "source": [
    "A boxplot is a standardized graphical representation of the distribution of a dataset based on five summary statistics:\n",
    "\n",
    "- Minimum – The smallest data point excluding outliers\n",
    "- First Quartile (Q1) – 25th percentile\n",
    "- Median (Q2) – 50th percentile\n",
    "- Third Quartile (Q3) – 75th percentile\n",
    "- Maximum – The largest data point excluding outliers\n",
    "\n",
    "It may also display outliers as individual points beyond the “whiskers”."
   ]
  },
  {
   "cell_type": "code",
   "execution_count": null,
   "metadata": {},
   "outputs": [],
   "source": [
    "data = np.random.normal(0, 1, 100)\n",
    "plt.boxplot(data)\n",
    "plt.title(\"Box Plot\")\n",
    "plt.show()"
   ]
  },
  {
   "cell_type": "markdown",
   "metadata": {},
   "source": [
    "<b>What a Boxplot Shows<b>\n",
    "\n",
    "The box shows the interquartile range (IQR = Q3−Q1), which contains the middle 50% of the data.\n",
    "\n",
    "- The line inside the box is the median.\n",
    "- The \"whiskers\" extend from the box to the minimum and maximum values within 1.5×IQR.\n",
    "- Outliers are shown as individual dots or points beyond the whiskers."
   ]
  },
  {
   "cell_type": "markdown",
   "metadata": {},
   "source": [
    "<b> Why Boxplots Are Useful<b>\n",
    "- Identify skewness, spread, and central tendency\n",
    "- Spot outliers\n",
    "- Compare distributions across groups"
   ]
  },
  {
   "cell_type": "markdown",
   "metadata": {},
   "source": [
    "## 🧱 2. Subplots"
   ]
  },
  {
   "cell_type": "markdown",
   "metadata": {},
   "source": [
    "- A subplot is a plotting area inside a larger figure that allows you to display multiple plots in one figure window. \n",
    "- It helps to compare multiple visualizations side-by-side or in a grid layout."
   ]
  },
  {
   "cell_type": "markdown",
   "metadata": {},
   "source": [
    "#fig, axs = plt.subplots(1, 2, figsize=(10, 4))\n",
    "\n",
    "- 1, 2 → This creates 1 row and 2 columns of plots, i.e., 2 side-by-side plots.\n",
    "- fig → This is the Figure object (the entire canvas).\n",
    "- axs → This is a NumPy array of Axes objects. Each Axes is where an individual plot goes.\n",
    "- figsize=(10, 4) → Sets the size of the entire figure: 10 inches wide and 4 inches tall.\n"
   ]
  },
  {
   "cell_type": "code",
   "execution_count": null,
   "metadata": {},
   "outputs": [],
   "source": [
    "fig, axs = plt.subplots(1, 2, figsize=(10, 4))\n",
    "\n",
    "axs[0].plot([1, 2, 3], [1, 2, 3])\n",
    "axs[0].set_title(\"Plot 1\")\n",
    "\n",
    "axs[1].plot([1, 2, 3], [3, 2, 1])\n",
    "axs[1].set_title(\"Plot 2\")\n",
    "\n",
    "plt.tight_layout()\n",
    "plt.show()"
   ]
  },
  {
   "cell_type": "markdown",
   "metadata": {},
   "source": [
    "## 📉 3. Loss Curve (Training vs Validation)"
   ]
  },
  {
   "cell_type": "markdown",
   "metadata": {},
   "source": [
    "- A loss curve is a graph that shows how the loss (or error) of a machine learning model changes over time, typically during training.\n",
    "- Loss measures how far the model’s predictions are from the actual values.\n",
    "- Lower loss = better model performance (up to a point).\n",
    "- The curve is usually plotted against epochs, where an epoch is one full pass over the training dataset."
   ]
  },
  {
   "cell_type": "code",
   "execution_count": null,
   "metadata": {},
   "outputs": [],
   "source": [
    "epochs = range(1, 11)\n",
    "train_loss = [0.9, 0.8, 0.6, 0.5, 0.45, 0.4, 0.35, 0.33, 0.31, 0.30]\n",
    "val_loss = [1.0, 0.9, 0.75, 0.6, 0.58, 0.57, 0.56, 0.55, 0.54, 0.53]\n",
    "\n",
    "plt.plot(epochs, train_loss, label='Training Loss')\n",
    "plt.plot(epochs, val_loss, label='Validation Loss')\n",
    "plt.xlabel('Epoch')\n",
    "plt.ylabel('Loss')\n",
    "plt.title('Model Loss')\n",
    "plt.legend()\n",
    "plt.show()"
   ]
  },
  {
   "cell_type": "markdown",
   "metadata": {},
   "source": [
    "## 🔥 4. Confusion Matrix (Heatmap)"
   ]
  },
  {
   "cell_type": "markdown",
   "metadata": {},
   "source": [
    "- A confusion matrix is a performance measurement tool for classification problems.\n",
    "- It shows how many predictions the model got correct and incorrect, broken down by actual vs predicted classes."
   ]
  },
  {
   "cell_type": "code",
   "execution_count": null,
   "metadata": {},
   "outputs": [],
   "source": [
    "from sklearn.metrics import confusion_matrix\n",
    "import seaborn as sns\n",
    "\n",
    "y_true = [0, 1, 2, 2, 0]\n",
    "y_pred = [0, 0, 2, 2, 1]\n",
    "\n",
    "cm = confusion_matrix(y_true, y_pred)\n",
    "sns.heatmap(cm, annot=True, cmap='Blues', fmt='d')\n",
    "plt.title(\"Confusion Matrix\")\n",
    "plt.xlabel(\"Predicted\")\n",
    "plt.ylabel(\"Actual\")\n",
    "plt.show()"
   ]
  },
  {
   "cell_type": "markdown",
   "metadata": {},
   "source": [
    "# Scikit-learn Library"
   ]
  },
  {
   "cell_type": "markdown",
   "metadata": {},
   "source": [
    "The Scikit-learn library (also written as scikit-learn or sklearn) is a popular and powerful machine learning library in Python. It provides simple and efficient tools for data mining, data analysis, and machine learning tasks, and is built on top of other popular Python libraries like:\n",
    "\n",
    "- NumPy – for numerical operations\n",
    "- SciPy – for scientific computing\n",
    "- matplotlib – for visualization (optional but useful)\n",
    "- pandas – for data manipulation (commonly used alongside)"
   ]
  },
  {
   "cell_type": "markdown",
   "metadata": {},
   "source": [
    "<b>Key Features of Scikit-learn:<b>\n",
    "\n",
    "- Easy-to-use API\n",
    "    Consistent syntax across all machine learning models makes it user-friendly.\n",
    "\n",
    "- Wide Range of ML Algorithms Includes:\n",
    "\n",
    "    - Supervised learning: Linear Regression, Logistic Regression, SVM, Decision Trees, Random Forests, etc.\n",
    "\n",
    "    - Unsupervised learning: K-Means, PCA, DBSCAN, etc.\n",
    "\n",
    "    - Model selection: Cross-validation, Grid Search\n",
    "\n",
    "    - Preprocessing: Standardization, Normalization, One-Hot Encoding, etc.\n",
    "\n",
    "- Integration with Other Libraries\n",
    "    Works seamlessly with NumPy arrays and pandas DataFrames."
   ]
  }
 ],
 "metadata": {
  "kernelspec": {
   "display_name": "Python 3 (ipykernel)",
   "language": "python",
   "name": "python3"
  },
  "language_info": {
   "codemirror_mode": {
    "name": "ipython",
    "version": 3
   },
   "file_extension": ".py",
   "mimetype": "text/x-python",
   "name": "python",
   "nbconvert_exporter": "python",
   "pygments_lexer": "ipython3",
   "version": "3.12.3"
  }
 },
 "nbformat": 4,
 "nbformat_minor": 4
}
