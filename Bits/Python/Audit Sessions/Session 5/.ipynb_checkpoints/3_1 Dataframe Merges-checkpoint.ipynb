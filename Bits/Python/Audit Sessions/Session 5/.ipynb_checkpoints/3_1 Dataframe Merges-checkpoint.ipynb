{
 "cells": [
  {
   "cell_type": "markdown",
   "id": "0f56a5e0",
   "metadata": {},
   "source": [
    "# 📘 Lecture Notes: Pandas DataFrame Concatenation and Merges"
   ]
  },
  {
   "cell_type": "markdown",
   "id": "47bf4ea9",
   "metadata": {},
   "source": [
    "\n",
    "These notes explain how to **combine multiple DataFrames** using Pandas. This is essential in data preprocessing and feature engineering stages of Machine Learning.\n",
    "\n",
    "We'll cover:\n",
    "\n",
    "- DataFrame Concatenation (Vertical and Horizontal)\n",
    "- Merging DataFrames (Inner, Left, Right, Outer Joins)\n"
   ]
  },
  {
   "cell_type": "markdown",
   "id": "b8caec38",
   "metadata": {},
   "source": [
    "## 🔗 Part 1: Concatenation of DataFrames"
   ]
  },
  {
   "cell_type": "markdown",
   "id": "a5c64fbf",
   "metadata": {},
   "source": [
    "\n",
    "**Concatenation** is used to stack DataFrames **vertically (row-wise)** or **horizontally (column-wise)**.\n",
    "\n",
    "### 🔧 Syntax\n",
    "```python\n",
    "pd.concat(objs, axis=0, join='outer')\n",
    "```\n",
    "- `objs`: list of DataFrames\n",
    "- `axis=0`: vertical (default), `axis=1`: horizontal\n",
    "- `join='outer'`: keeps all rows/columns; `'inner'`: only common ones\n"
   ]
  },
  {
   "cell_type": "code",
   "execution_count": null,
   "id": "157216e1",
   "metadata": {},
   "outputs": [],
   "source": [
    "\n",
    "import pandas as pd\n",
    "\n",
    "df1 = pd.DataFrame({\n",
    "    'ID': [1, 2],\n",
    "    'Name': ['Alice', 'Bob'],\n",
    "    'Department': ['HR', 'Finance']\n",
    "})\n",
    "\n",
    "df2 = pd.DataFrame({\n",
    "    'ID': [3, 4],\n",
    "    'Name': ['Charlie', 'David'],\n",
    "    'Department': ['IT', 'Marketing']\n",
    "})\n",
    "\n",
    "print(\"Data Frame-1\")\n",
    "print(df1)\n",
    "print(\"\\nData Frame-2\")\n",
    "print(df2)\n",
    "print(\"\\nCombined DataFrame\")\n",
    "result = pd.concat([df1, df2], axis=0)\n",
    "print(result)\n"
   ]
  },
  {
   "cell_type": "code",
   "execution_count": null,
   "id": "46a9fc6c",
   "metadata": {},
   "outputs": [],
   "source": [
    "\n",
    "df3 = pd.DataFrame({\n",
    "    'Score': [85, 90],\n",
    "    'Grade': ['B', 'A'],\n",
    "    'Status': ['Pass', 'Pass']\n",
    "})\n",
    "\n",
    "df4 = pd.DataFrame({\n",
    "    'Attendance': [88, 95],\n",
    "    'Bonus': [5, 10],\n",
    "    'Remarks': ['Good', 'Excellent']\n",
    "})\n",
    "\n",
    "print(\"Data Frame-3\")\n",
    "print(df3)\n",
    "print(\"\\nData Frame-4\")\n",
    "print(df4)\n",
    "print(\"\\nCombined DataFrame\")\n",
    "result = pd.concat([df3, df4], axis=1)\n",
    "print(result)\n"
   ]
  },
  {
   "cell_type": "markdown",
   "id": "bc321f28",
   "metadata": {},
   "source": [
    "## 🔗 Part 2: Merging DataFrames"
   ]
  },
  {
   "cell_type": "markdown",
   "id": "e67e0949",
   "metadata": {},
   "source": [
    "\n",
    "Merging is like SQL JOIN. It combines rows based on keys (column values).\n",
    "\n",
    "### 🔧 Syntax\n",
    "```python\n",
    "pd.merge(left, right, how='inner', on=None, left_on=None, right_on=None)\n",
    "```\n"
   ]
  },
  {
   "cell_type": "code",
   "execution_count": null,
   "id": "9a1d41ec",
   "metadata": {},
   "outputs": [],
   "source": [
    "\n",
    "df1 = pd.DataFrame({\n",
    "    'ID': [1, 2, 3],\n",
    "    'Name': ['Alice', 'Bob', 'Charlie'],\n",
    "    'City': ['Delhi', 'Mumbai', 'Chennai']\n",
    "})\n",
    "\n",
    "df2 = pd.DataFrame({\n",
    "    'ID': [2, 3, 4],\n",
    "    'Score': [90, 85, 70],\n",
    "    'Grade': ['A', 'B', 'C']\n",
    "})\n",
    "\n",
    "print(\"Data Frame-1\")\n",
    "print(df1)\n",
    "print(\"\\nData Frame-2\")\n",
    "print(df2)\n",
    "print(\"\\nMergedd DataFrame\")\n",
    "result = pd.merge(df1, df2, on='ID', how='inner')\n",
    "print(result)\n"
   ]
  },
  {
   "cell_type": "code",
   "execution_count": null,
   "id": "69d13b8c-bcdb-47ff-86c4-51a271a68b17",
   "metadata": {},
   "outputs": [],
   "source": [
    "\n",
    "df1 = pd.DataFrame({\n",
    "    'ID': [1, 2, 3],\n",
    "    'Name': ['Alice', 'Bob', 'Charlie'],\n",
    "    'City': ['Delhi', 'Mumbai', 'Chennai']\n",
    "})\n",
    "\n",
    "df2 = pd.DataFrame({\n",
    "    'ID': [2, 3, 4],\n",
    "    'Score': [90, 85, 70],\n",
    "    'Grade': ['A', 'B', 'C']\n",
    "})\n",
    "\n",
    "print(\"Data Frame-1\")\n",
    "print(df1)\n",
    "print(\"\\nData Frame-2\")\n",
    "print(df2)\n",
    "print(\"\\nMergedd DataFrame\")\n",
    "result = pd.merge(df1, df2, on='ID', how='outer')\n",
    "print(result)\n"
   ]
  },
  {
   "cell_type": "code",
   "execution_count": null,
   "id": "5894ed11",
   "metadata": {},
   "outputs": [],
   "source": [
    "print(\"Data Frame-1\")\n",
    "print(df1)\n",
    "print(\"\\nData Frame-2\")\n",
    "print(df2)\n",
    "print(\"\\nMerged DataFrame\")\n",
    "result = pd.merge(df1, df2, on='ID', how='left')\n",
    "print(result)\n"
   ]
  },
  {
   "cell_type": "code",
   "execution_count": null,
   "id": "e7c23f6c",
   "metadata": {},
   "outputs": [],
   "source": [
    "df1 = pd.DataFrame({\n",
    "    'emp_id': [1, 2],\n",
    "    'name': ['A', 'B'],\n",
    "    'dept': ['HR', 'IT']\n",
    "})\n",
    "\n",
    "df2 = pd.DataFrame({\n",
    "    'id': [1, 2],\n",
    "    'salary': [1000, 1500],\n",
    "    'bonus': [100, 200]\n",
    "})\n",
    "\n",
    "print(\"Data Frame-1\")\n",
    "print(df1)\n",
    "print(\"\\nData Frame-2\")\n",
    "print(df2)\n",
    "print(\"\\nMerged DataFrame\")\n",
    "\n",
    "result = pd.merge(df1, df2, left_on='emp_id', right_on='id', how='inner')\n",
    "print(result)\n"
   ]
  },
  {
   "cell_type": "code",
   "execution_count": null,
   "id": "7e35fb54",
   "metadata": {},
   "outputs": [],
   "source": [
    "df1 = pd.DataFrame({'Name': ['Tom', 'Jerry'], 'City': ['Pune', 'Kolkata'], 'Level': ['Mid', 'Senior']}, index=[1, 2])\n",
    "df2 = pd.DataFrame({'Score': [95, 80], 'Rank': [1, 2], 'Batch': ['X', 'Y']}, index=[1, 3])\n",
    "\n",
    "print(\"Data Frame-1\")\n",
    "print(df1)\n",
    "print(\"\\nData Frame-2\")\n",
    "print(df2)\n",
    "print(\"\\nMerged DataFrame\")\n",
    "result = pd.merge(df1, df2, left_index=True, right_index=True, how='outer')\n",
    "print(result)\n"
   ]
  },
  {
   "cell_type": "markdown",
   "id": "172eab30",
   "metadata": {},
   "source": [
    "\n",
    "## ✅ Summary\n",
    "\n",
    "| Method         | Function       | Key Used       | Purpose                       |\n",
    "|----------------|----------------|----------------|-------------------------------|\n",
    "| Concatenation  | `pd.concat()`  | No             | Stack data vertically or horizontally |\n",
    "| Merge          | `pd.merge()`   | Columns/Index  | Combine data like SQL joins   |\n"
   ]
  },
  {
   "cell_type": "code",
   "execution_count": null,
   "id": "c68e6264-c572-46f4-93c3-4e7874359829",
   "metadata": {},
   "outputs": [],
   "source": []
  }
 ],
 "metadata": {
  "kernelspec": {
   "display_name": "Python 3 (ipykernel)",
   "language": "python",
   "name": "python3"
  },
  "language_info": {
   "codemirror_mode": {
    "name": "ipython",
    "version": 3
   },
   "file_extension": ".py",
   "mimetype": "text/x-python",
   "name": "python",
   "nbconvert_exporter": "python",
   "pygments_lexer": "ipython3",
   "version": "3.12.3"
  }
 },
 "nbformat": 4,
 "nbformat_minor": 5
}
