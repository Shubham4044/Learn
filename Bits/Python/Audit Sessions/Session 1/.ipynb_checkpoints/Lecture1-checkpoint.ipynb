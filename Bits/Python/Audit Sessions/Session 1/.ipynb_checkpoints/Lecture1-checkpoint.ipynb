{
 "cells": [
  {
   "cell_type": "markdown",
   "id": "4142d7f7-d02e-469b-ad37-08011bd81aae",
   "metadata": {
    "id": "1c0c4f75"
   },
   "source": [
    "<h1> <center> <font color='green'> Welcome to Python !! </font> </center> </h1>"
   ]
  },
  {
   "cell_type": "markdown",
   "id": "19da50b9-bc34-4d26-bfcb-d63ce5dab5ed",
   "metadata": {
    "id": "7cb26be7"
   },
   "source": [
    "<b> This is first lecture </b>"
   ]
  },
  {
   "cell_type": "markdown",
   "id": "0611f8d9-b0a5-4892-8c76-0d033a72bc5e",
   "metadata": {},
   "source": [
    "Hi"
   ]
  },
  {
   "cell_type": "markdown",
   "id": "c0e08dbe",
   "metadata": {
    "id": "c0e08dbe"
   },
   "source": [
    "<b> Output statements in Python </b>"
   ]
  },
  {
   "cell_type": "code",
   "execution_count": 78,
   "id": "43d30118",
   "metadata": {
    "id": "43d30118",
    "outputId": "b2d6b76e-31fa-4d43-ac85-0d92c95e2977"
   },
   "outputs": [
    {
     "name": "stdout",
     "output_type": "stream",
     "text": [
      "hello world!!\n"
     ]
    }
   ],
   "source": [
    "print(\"hello world!!\")"
   ]
  },
  {
   "cell_type": "code",
   "execution_count": 79,
   "id": "d798410c",
   "metadata": {
    "id": "d798410c",
    "outputId": "748f1594-7017-4569-ecf6-8ef6d8e0c3ae"
   },
   "outputs": [
    {
     "name": "stdout",
     "output_type": "stream",
     "text": [
      "hello\n"
     ]
    }
   ],
   "source": [
    "print('hello')"
   ]
  },
  {
   "cell_type": "code",
   "execution_count": 81,
   "id": "ef1de74a-354e-4d0e-ace2-7bcfa779ccad",
   "metadata": {},
   "outputs": [],
   "source": [
    "a=3"
   ]
  },
  {
   "cell_type": "code",
   "execution_count": 82,
   "id": "eff53de0-3c83-46b8-9a79-43413e294d23",
   "metadata": {},
   "outputs": [
    {
     "data": {
      "text/plain": [
       "int"
      ]
     },
     "execution_count": 82,
     "metadata": {},
     "output_type": "execute_result"
    }
   ],
   "source": [
    "type(a)"
   ]
  },
  {
   "cell_type": "code",
   "execution_count": 80,
   "id": "62fcc464",
   "metadata": {
    "id": "62fcc464",
    "outputId": "3fddbf82-0d75-428e-e506-25452f6733e0"
   },
   "outputs": [
    {
     "data": {
      "text/plain": [
       "'hello, I am writing a sentence'"
      ]
     },
     "execution_count": 80,
     "metadata": {},
     "output_type": "execute_result"
    }
   ],
   "source": [
    "\"hello, I am writing a sentence\""
   ]
  },
  {
   "cell_type": "code",
   "execution_count": 4,
   "id": "392dea12",
   "metadata": {
    "id": "392dea12",
    "outputId": "47fe7bc1-4938-4bc3-93db-dd0dbe1dfbd6"
   },
   "outputs": [
    {
     "name": "stdout",
     "output_type": "stream",
     "text": [
      "2+3\n"
     ]
    }
   ],
   "source": [
    "print('2+3')"
   ]
  },
  {
   "cell_type": "code",
   "execution_count": 5,
   "id": "ae1805e5",
   "metadata": {
    "id": "ae1805e5",
    "outputId": "85dbfb59-84cb-449f-aacf-b1376a2abc80"
   },
   "outputs": [
    {
     "name": "stdout",
     "output_type": "stream",
     "text": [
      "2+3= 5\n"
     ]
    }
   ],
   "source": [
    "print('2+3=', (2+3))"
   ]
  },
  {
   "cell_type": "code",
   "execution_count": 6,
   "id": "2395f1ed",
   "metadata": {
    "id": "2395f1ed",
    "outputId": "fd2ab137-b875-4403-b656-94cbf976362a"
   },
   "outputs": [
    {
     "name": "stdout",
     "output_type": "stream",
     "text": [
      "line1\n",
      "line2\n"
     ]
    }
   ],
   "source": [
    "print(\"line1\")\n",
    "print(\"line2\")"
   ]
  },
  {
   "cell_type": "code",
   "execution_count": 7,
   "id": "02cf2a0c",
   "metadata": {
    "id": "02cf2a0c",
    "outputId": "359aceda-a027-491f-e87d-126b0c72ef01"
   },
   "outputs": [
    {
     "name": "stdout",
     "output_type": "stream",
     "text": [
      "line1 line2\n"
     ]
    }
   ],
   "source": [
    "print(\"line1\", end=\" \")\n",
    "print(\"line2\")"
   ]
  },
  {
   "cell_type": "code",
   "execution_count": 8,
   "id": "f20979a6",
   "metadata": {
    "id": "f20979a6",
    "outputId": "53512a67-45a7-49a3-9e76-4e32daf00f3c"
   },
   "outputs": [
    {
     "name": "stdout",
     "output_type": "stream",
     "text": [
      "line1@@@@line2\n"
     ]
    }
   ],
   "source": [
    "print(\"line1\", end=\"@@@@\")\n",
    "print(\"line2\")"
   ]
  },
  {
   "cell_type": "markdown",
   "id": "66636f4d",
   "metadata": {
    "id": "66636f4d"
   },
   "source": [
    "<b> Input statements in Python </b>"
   ]
  },
  {
   "cell_type": "code",
   "execution_count": 83,
   "id": "92789af3",
   "metadata": {
    "id": "92789af3",
    "outputId": "da205192-fcc8-4d06-998e-b0291d338abd"
   },
   "outputs": [
    {
     "name": "stdin",
     "output_type": "stream",
     "text": [
      "Enter the year 2024\n"
     ]
    },
    {
     "data": {
      "text/plain": [
       "'2024'"
      ]
     },
     "execution_count": 83,
     "metadata": {},
     "output_type": "execute_result"
    }
   ],
   "source": [
    "input(\"Enter the year\")"
   ]
  },
  {
   "cell_type": "code",
   "execution_count": 84,
   "id": "4abc99b6",
   "metadata": {
    "id": "4abc99b6",
    "outputId": "b9d51baa-dc2d-492d-82aa-bcdc2e3409c5"
   },
   "outputs": [
    {
     "name": "stdin",
     "output_type": "stream",
     "text": [
      "Enter your age 30\n"
     ]
    },
    {
     "name": "stdout",
     "output_type": "stream",
     "text": [
      "The age entered is 30\n"
     ]
    }
   ],
   "source": [
    "age = input(\"Enter your age\")\n",
    "print(\"The age entered is\", age)"
   ]
  },
  {
   "cell_type": "code",
   "execution_count": 11,
   "id": "0e9c7975",
   "metadata": {
    "id": "0e9c7975",
    "outputId": "333bcbf2-d476-4409-f573-461a35754db3"
   },
   "outputs": [
    {
     "name": "stdin",
     "output_type": "stream",
     "text": [
      "Enter the year 2023\n"
     ]
    },
    {
     "name": "stdout",
     "output_type": "stream",
     "text": [
      "The year after ten years will be  2033\n"
     ]
    }
   ],
   "source": [
    "year = int(input(\"Enter the year\"))\n",
    "year = year + 10\n",
    "print(\"The year after ten years will be \", year)"
   ]
  },
  {
   "cell_type": "code",
   "execution_count": 12,
   "id": "ec5cc35f",
   "metadata": {
    "id": "ec5cc35f",
    "outputId": "46abbd00-df28-4363-c105-4e9416de7614"
   },
   "outputs": [
    {
     "data": {
      "text/plain": [
       "int"
      ]
     },
     "execution_count": 12,
     "metadata": {},
     "output_type": "execute_result"
    }
   ],
   "source": [
    "type(year)"
   ]
  },
  {
   "cell_type": "code",
   "execution_count": 85,
   "id": "fbe5161c",
   "metadata": {
    "id": "fbe5161c"
   },
   "outputs": [
    {
     "data": {
      "text/plain": [
       "str"
      ]
     },
     "execution_count": 85,
     "metadata": {},
     "output_type": "execute_result"
    }
   ],
   "source": [
    "type(age)"
   ]
  },
  {
   "cell_type": "code",
   "execution_count": 14,
   "id": "41c0329a",
   "metadata": {
    "id": "41c0329a",
    "outputId": "a140eeab-cc89-40d2-b7bd-97b30854a8e1"
   },
   "outputs": [
    {
     "data": {
      "text/plain": [
       "2033"
      ]
     },
     "execution_count": 14,
     "metadata": {},
     "output_type": "execute_result"
    }
   ],
   "source": [
    "year"
   ]
  },
  {
   "cell_type": "code",
   "execution_count": 15,
   "id": "3d6cdbd5",
   "metadata": {
    "id": "3d6cdbd5",
    "outputId": "d424af9b-2287-4c49-a745-2f799700efd4"
   },
   "outputs": [
    {
     "data": {
      "text/plain": [
       "'30'"
      ]
     },
     "execution_count": 15,
     "metadata": {},
     "output_type": "execute_result"
    }
   ],
   "source": [
    "age"
   ]
  },
  {
   "cell_type": "code",
   "execution_count": 16,
   "id": "3bb837a0",
   "metadata": {
    "id": "3bb837a0",
    "outputId": "2e2c43dc-65d4-46ba-db30-c39e1bc79525"
   },
   "outputs": [
    {
     "data": {
      "text/plain": [
       "str"
      ]
     },
     "execution_count": 16,
     "metadata": {},
     "output_type": "execute_result"
    }
   ],
   "source": [
    "type(age)"
   ]
  },
  {
   "cell_type": "code",
   "execution_count": 87,
   "id": "9c65b9e4",
   "metadata": {
    "id": "9c65b9e4",
    "outputId": "8ca609f7-0d88-485a-af4d-7f5636d2f927"
   },
   "outputs": [
    {
     "name": "stdout",
     "output_type": "stream",
     "text": [
      "Hi\n"
     ]
    }
   ],
   "source": [
    "#This is a comment to print hellow\n",
    "#print(\"Hellow\")\n",
    "print(\"Hi\")"
   ]
  },
  {
   "cell_type": "code",
   "execution_count": 18,
   "id": "751141cf",
   "metadata": {
    "id": "751141cf",
    "outputId": "f0f19700-de2f-4d36-ba41-a6f5e186220e"
   },
   "outputs": [
    {
     "name": "stdin",
     "output_type": "stream",
     "text": [
      "Enter the year 2023\n"
     ]
    },
    {
     "name": "stdout",
     "output_type": "stream",
     "text": [
      "The year after ten years will be  2033\n"
     ]
    }
   ],
   "source": [
    "''' This is multiline documentation and\n",
    "will be ignored!!\n",
    "this is also comment'''\n",
    "\n",
    "year = int(input(\"Enter the year\"))\n",
    "year = year + 10\n",
    "print(\"The year after ten years will be \", year)"
   ]
  },
  {
   "cell_type": "code",
   "execution_count": 19,
   "id": "4dd8b3e7",
   "metadata": {
    "id": "4dd8b3e7",
    "outputId": "df43fb75-91b5-4b79-a24a-a9f3b87f16e0"
   },
   "outputs": [
    {
     "data": {
      "text/plain": [
       "str"
      ]
     },
     "execution_count": 19,
     "metadata": {},
     "output_type": "execute_result"
    }
   ],
   "source": [
    "type(age)"
   ]
  },
  {
   "cell_type": "code",
   "execution_count": 21,
   "id": "07551adf",
   "metadata": {
    "id": "07551adf",
    "outputId": "f4bdf61f-bf53-4cf1-9865-f1e5912b3e5f"
   },
   "outputs": [
    {
     "name": "stdout",
     "output_type": "stream",
     "text": [
      "Hellow\n"
     ]
    }
   ],
   "source": [
    "'''This is a comment'''\n",
    "print(\"Hellow\")"
   ]
  },
  {
   "cell_type": "code",
   "execution_count": 88,
   "id": "88c1b2a4",
   "metadata": {
    "id": "88c1b2a4"
   },
   "outputs": [],
   "source": [
    "a='100'"
   ]
  },
  {
   "cell_type": "code",
   "execution_count": 90,
   "id": "0e6c9cc0-e98c-4778-9c15-a579a19b5b25",
   "metadata": {},
   "outputs": [],
   "source": []
  },
  {
   "cell_type": "code",
   "execution_count": 91,
   "id": "94dded74",
   "metadata": {
    "id": "94dded74",
    "outputId": "04210cc0-22fa-450b-b8e8-ebb1c23ffdc9"
   },
   "outputs": [
    {
     "data": {
      "text/plain": [
       "list"
      ]
     },
     "execution_count": 91,
     "metadata": {},
     "output_type": "execute_result"
    }
   ],
   "source": [
    "type(a)"
   ]
  },
  {
   "cell_type": "code",
   "execution_count": 25,
   "id": "9bd762c8",
   "metadata": {
    "id": "9bd762c8",
    "outputId": "051f5789-f1eb-4d12-c8dc-8d08c257ffb8"
   },
   "outputs": [
    {
     "data": {
      "text/plain": [
       "str"
      ]
     },
     "execution_count": 25,
     "metadata": {},
     "output_type": "execute_result"
    }
   ],
   "source": [
    "a=\"hello\"\n",
    "type(a)"
   ]
  },
  {
   "cell_type": "code",
   "execution_count": 92,
   "id": "642aeff6-e00d-4f90-b4df-dc43902070a3",
   "metadata": {},
   "outputs": [],
   "source": [
    "#dont start variable with number or special characters, syntax error\n",
    "var12=\"hello\""
   ]
  },
  {
   "cell_type": "markdown",
   "id": "5cde1cd3",
   "metadata": {
    "id": "5cde1cd3"
   },
   "source": [
    "<b> Imports in Python </b>"
   ]
  },
  {
   "cell_type": "code",
   "execution_count": 26,
   "id": "15433884",
   "metadata": {
    "id": "15433884"
   },
   "outputs": [],
   "source": [
    "import sys"
   ]
  },
  {
   "cell_type": "code",
   "execution_count": 27,
   "id": "36d83c69",
   "metadata": {
    "id": "36d83c69",
    "outputId": "d4963e13-6164-4dcb-a84b-68f264b2b992"
   },
   "outputs": [
    {
     "name": "stdout",
     "output_type": "stream",
     "text": [
      "3.11.7 | packaged by Anaconda, Inc. | (main, Dec 15 2023, 18:05:47) [MSC v.1916 64 bit (AMD64)]\n"
     ]
    }
   ],
   "source": [
    "print(sys.version)"
   ]
  },
  {
   "cell_type": "code",
   "execution_count": 28,
   "id": "53f1591d",
   "metadata": {
    "id": "53f1591d",
    "outputId": "f8cd366c-faa1-43f8-d087-238b28c7fd10"
   },
   "outputs": [
    {
     "name": "stdout",
     "output_type": "stream",
     "text": [
      "hello\n"
     ]
    }
   ],
   "source": [
    "print(a)"
   ]
  },
  {
   "cell_type": "code",
   "execution_count": 29,
   "id": "fa09ae43",
   "metadata": {
    "id": "fa09ae43"
   },
   "outputs": [],
   "source": [
    "import math"
   ]
  },
  {
   "cell_type": "code",
   "execution_count": 30,
   "id": "609453d1",
   "metadata": {
    "id": "609453d1",
    "outputId": "5fec0c99-519d-4d3f-aa15-d62973b6e520"
   },
   "outputs": [
    {
     "data": {
      "text/plain": [
       "4.0"
      ]
     },
     "execution_count": 30,
     "metadata": {},
     "output_type": "execute_result"
    }
   ],
   "source": [
    "math.sqrt(16)"
   ]
  },
  {
   "cell_type": "code",
   "execution_count": 31,
   "id": "3566b29f",
   "metadata": {
    "id": "3566b29f",
    "outputId": "29860b00-11d9-4897-8e19-80ddd8817fed"
   },
   "outputs": [
    {
     "name": "stdout",
     "output_type": "stream",
     "text": [
      "Help on built-in function sqrt in module math:\n",
      "\n",
      "sqrt(x, /)\n",
      "    Return the square root of x.\n",
      "\n"
     ]
    }
   ],
   "source": [
    "help(math.sqrt)"
   ]
  },
  {
   "cell_type": "code",
   "execution_count": 32,
   "id": "a8a8c01f",
   "metadata": {
    "id": "a8a8c01f",
    "outputId": "b44bc645-a579-4265-b48f-9cacef983f03"
   },
   "outputs": [
    {
     "name": "stdout",
     "output_type": "stream",
     "text": [
      "Help on built-in module math:\n",
      "\n",
      "NAME\n",
      "    math\n",
      "\n",
      "DESCRIPTION\n",
      "    This module provides access to the mathematical functions\n",
      "    defined by the C standard.\n",
      "\n",
      "FUNCTIONS\n",
      "    acos(x, /)\n",
      "        Return the arc cosine (measured in radians) of x.\n",
      "        \n",
      "        The result is between 0 and pi.\n",
      "    \n",
      "    acosh(x, /)\n",
      "        Return the inverse hyperbolic cosine of x.\n",
      "    \n",
      "    asin(x, /)\n",
      "        Return the arc sine (measured in radians) of x.\n",
      "        \n",
      "        The result is between -pi/2 and pi/2.\n",
      "    \n",
      "    asinh(x, /)\n",
      "        Return the inverse hyperbolic sine of x.\n",
      "    \n",
      "    atan(x, /)\n",
      "        Return the arc tangent (measured in radians) of x.\n",
      "        \n",
      "        The result is between -pi/2 and pi/2.\n",
      "    \n",
      "    atan2(y, x, /)\n",
      "        Return the arc tangent (measured in radians) of y/x.\n",
      "        \n",
      "        Unlike atan(y/x), the signs of both x and y are considered.\n",
      "    \n",
      "    atanh(x, /)\n",
      "        Return the inverse hyperbolic tangent of x.\n",
      "    \n",
      "    cbrt(x, /)\n",
      "        Return the cube root of x.\n",
      "    \n",
      "    ceil(x, /)\n",
      "        Return the ceiling of x as an Integral.\n",
      "        \n",
      "        This is the smallest integer >= x.\n",
      "    \n",
      "    comb(n, k, /)\n",
      "        Number of ways to choose k items from n items without repetition and without order.\n",
      "        \n",
      "        Evaluates to n! / (k! * (n - k)!) when k <= n and evaluates\n",
      "        to zero when k > n.\n",
      "        \n",
      "        Also called the binomial coefficient because it is equivalent\n",
      "        to the coefficient of k-th term in polynomial expansion of the\n",
      "        expression (1 + x)**n.\n",
      "        \n",
      "        Raises TypeError if either of the arguments are not integers.\n",
      "        Raises ValueError if either of the arguments are negative.\n",
      "    \n",
      "    copysign(x, y, /)\n",
      "        Return a float with the magnitude (absolute value) of x but the sign of y.\n",
      "        \n",
      "        On platforms that support signed zeros, copysign(1.0, -0.0)\n",
      "        returns -1.0.\n",
      "    \n",
      "    cos(x, /)\n",
      "        Return the cosine of x (measured in radians).\n",
      "    \n",
      "    cosh(x, /)\n",
      "        Return the hyperbolic cosine of x.\n",
      "    \n",
      "    degrees(x, /)\n",
      "        Convert angle x from radians to degrees.\n",
      "    \n",
      "    dist(p, q, /)\n",
      "        Return the Euclidean distance between two points p and q.\n",
      "        \n",
      "        The points should be specified as sequences (or iterables) of\n",
      "        coordinates.  Both inputs must have the same dimension.\n",
      "        \n",
      "        Roughly equivalent to:\n",
      "            sqrt(sum((px - qx) ** 2.0 for px, qx in zip(p, q)))\n",
      "    \n",
      "    erf(x, /)\n",
      "        Error function at x.\n",
      "    \n",
      "    erfc(x, /)\n",
      "        Complementary error function at x.\n",
      "    \n",
      "    exp(x, /)\n",
      "        Return e raised to the power of x.\n",
      "    \n",
      "    exp2(x, /)\n",
      "        Return 2 raised to the power of x.\n",
      "    \n",
      "    expm1(x, /)\n",
      "        Return exp(x)-1.\n",
      "        \n",
      "        This function avoids the loss of precision involved in the direct evaluation of exp(x)-1 for small x.\n",
      "    \n",
      "    fabs(x, /)\n",
      "        Return the absolute value of the float x.\n",
      "    \n",
      "    factorial(n, /)\n",
      "        Find n!.\n",
      "        \n",
      "        Raise a ValueError if x is negative or non-integral.\n",
      "    \n",
      "    floor(x, /)\n",
      "        Return the floor of x as an Integral.\n",
      "        \n",
      "        This is the largest integer <= x.\n",
      "    \n",
      "    fmod(x, y, /)\n",
      "        Return fmod(x, y), according to platform C.\n",
      "        \n",
      "        x % y may differ.\n",
      "    \n",
      "    frexp(x, /)\n",
      "        Return the mantissa and exponent of x, as pair (m, e).\n",
      "        \n",
      "        m is a float and e is an int, such that x = m * 2.**e.\n",
      "        If x is 0, m and e are both 0.  Else 0.5 <= abs(m) < 1.0.\n",
      "    \n",
      "    fsum(seq, /)\n",
      "        Return an accurate floating point sum of values in the iterable seq.\n",
      "        \n",
      "        Assumes IEEE-754 floating point arithmetic.\n",
      "    \n",
      "    gamma(x, /)\n",
      "        Gamma function at x.\n",
      "    \n",
      "    gcd(*integers)\n",
      "        Greatest Common Divisor.\n",
      "    \n",
      "    hypot(...)\n",
      "        hypot(*coordinates) -> value\n",
      "        \n",
      "        Multidimensional Euclidean distance from the origin to a point.\n",
      "        \n",
      "        Roughly equivalent to:\n",
      "            sqrt(sum(x**2 for x in coordinates))\n",
      "        \n",
      "        For a two dimensional point (x, y), gives the hypotenuse\n",
      "        using the Pythagorean theorem:  sqrt(x*x + y*y).\n",
      "        \n",
      "        For example, the hypotenuse of a 3/4/5 right triangle is:\n",
      "        \n",
      "            >>> hypot(3.0, 4.0)\n",
      "            5.0\n",
      "    \n",
      "    isclose(a, b, *, rel_tol=1e-09, abs_tol=0.0)\n",
      "        Determine whether two floating point numbers are close in value.\n",
      "        \n",
      "          rel_tol\n",
      "            maximum difference for being considered \"close\", relative to the\n",
      "            magnitude of the input values\n",
      "          abs_tol\n",
      "            maximum difference for being considered \"close\", regardless of the\n",
      "            magnitude of the input values\n",
      "        \n",
      "        Return True if a is close in value to b, and False otherwise.\n",
      "        \n",
      "        For the values to be considered close, the difference between them\n",
      "        must be smaller than at least one of the tolerances.\n",
      "        \n",
      "        -inf, inf and NaN behave similarly to the IEEE 754 Standard.  That\n",
      "        is, NaN is not close to anything, even itself.  inf and -inf are\n",
      "        only close to themselves.\n",
      "    \n",
      "    isfinite(x, /)\n",
      "        Return True if x is neither an infinity nor a NaN, and False otherwise.\n",
      "    \n",
      "    isinf(x, /)\n",
      "        Return True if x is a positive or negative infinity, and False otherwise.\n",
      "    \n",
      "    isnan(x, /)\n",
      "        Return True if x is a NaN (not a number), and False otherwise.\n",
      "    \n",
      "    isqrt(n, /)\n",
      "        Return the integer part of the square root of the input.\n",
      "    \n",
      "    lcm(*integers)\n",
      "        Least Common Multiple.\n",
      "    \n",
      "    ldexp(x, i, /)\n",
      "        Return x * (2**i).\n",
      "        \n",
      "        This is essentially the inverse of frexp().\n",
      "    \n",
      "    lgamma(x, /)\n",
      "        Natural logarithm of absolute value of Gamma function at x.\n",
      "    \n",
      "    log(...)\n",
      "        log(x, [base=math.e])\n",
      "        Return the logarithm of x to the given base.\n",
      "        \n",
      "        If the base not specified, returns the natural logarithm (base e) of x.\n",
      "    \n",
      "    log10(x, /)\n",
      "        Return the base 10 logarithm of x.\n",
      "    \n",
      "    log1p(x, /)\n",
      "        Return the natural logarithm of 1+x (base e).\n",
      "        \n",
      "        The result is computed in a way which is accurate for x near zero.\n",
      "    \n",
      "    log2(x, /)\n",
      "        Return the base 2 logarithm of x.\n",
      "    \n",
      "    modf(x, /)\n",
      "        Return the fractional and integer parts of x.\n",
      "        \n",
      "        Both results carry the sign of x and are floats.\n",
      "    \n",
      "    nextafter(x, y, /)\n",
      "        Return the next floating-point value after x towards y.\n",
      "    \n",
      "    perm(n, k=None, /)\n",
      "        Number of ways to choose k items from n items without repetition and with order.\n",
      "        \n",
      "        Evaluates to n! / (n - k)! when k <= n and evaluates\n",
      "        to zero when k > n.\n",
      "        \n",
      "        If k is not specified or is None, then k defaults to n\n",
      "        and the function returns n!.\n",
      "        \n",
      "        Raises TypeError if either of the arguments are not integers.\n",
      "        Raises ValueError if either of the arguments are negative.\n",
      "    \n",
      "    pow(x, y, /)\n",
      "        Return x**y (x to the power of y).\n",
      "    \n",
      "    prod(iterable, /, *, start=1)\n",
      "        Calculate the product of all the elements in the input iterable.\n",
      "        \n",
      "        The default start value for the product is 1.\n",
      "        \n",
      "        When the iterable is empty, return the start value.  This function is\n",
      "        intended specifically for use with numeric values and may reject\n",
      "        non-numeric types.\n",
      "    \n",
      "    radians(x, /)\n",
      "        Convert angle x from degrees to radians.\n",
      "    \n",
      "    remainder(x, y, /)\n",
      "        Difference between x and the closest integer multiple of y.\n",
      "        \n",
      "        Return x - n*y where n*y is the closest integer multiple of y.\n",
      "        In the case where x is exactly halfway between two multiples of\n",
      "        y, the nearest even value of n is used. The result is always exact.\n",
      "    \n",
      "    sin(x, /)\n",
      "        Return the sine of x (measured in radians).\n",
      "    \n",
      "    sinh(x, /)\n",
      "        Return the hyperbolic sine of x.\n",
      "    \n",
      "    sqrt(x, /)\n",
      "        Return the square root of x.\n",
      "    \n",
      "    tan(x, /)\n",
      "        Return the tangent of x (measured in radians).\n",
      "    \n",
      "    tanh(x, /)\n",
      "        Return the hyperbolic tangent of x.\n",
      "    \n",
      "    trunc(x, /)\n",
      "        Truncates the Real x to the nearest Integral toward 0.\n",
      "        \n",
      "        Uses the __trunc__ magic method.\n",
      "    \n",
      "    ulp(x, /)\n",
      "        Return the value of the least significant bit of the float x.\n",
      "\n",
      "DATA\n",
      "    e = 2.718281828459045\n",
      "    inf = inf\n",
      "    nan = nan\n",
      "    pi = 3.141592653589793\n",
      "    tau = 6.283185307179586\n",
      "\n",
      "FILE\n",
      "    (built-in)\n",
      "\n",
      "\n"
     ]
    }
   ],
   "source": [
    "help(math)"
   ]
  },
  {
   "cell_type": "code",
   "execution_count": 33,
   "id": "6c1753e8",
   "metadata": {
    "id": "6c1753e8",
    "outputId": "6012205c-559c-4426-90c6-402293f49f00"
   },
   "outputs": [
    {
     "data": {
      "text/plain": [
       "['__doc__',\n",
       " '__loader__',\n",
       " '__name__',\n",
       " '__package__',\n",
       " '__spec__',\n",
       " 'acos',\n",
       " 'acosh',\n",
       " 'asin',\n",
       " 'asinh',\n",
       " 'atan',\n",
       " 'atan2',\n",
       " 'atanh',\n",
       " 'cbrt',\n",
       " 'ceil',\n",
       " 'comb',\n",
       " 'copysign',\n",
       " 'cos',\n",
       " 'cosh',\n",
       " 'degrees',\n",
       " 'dist',\n",
       " 'e',\n",
       " 'erf',\n",
       " 'erfc',\n",
       " 'exp',\n",
       " 'exp2',\n",
       " 'expm1',\n",
       " 'fabs',\n",
       " 'factorial',\n",
       " 'floor',\n",
       " 'fmod',\n",
       " 'frexp',\n",
       " 'fsum',\n",
       " 'gamma',\n",
       " 'gcd',\n",
       " 'hypot',\n",
       " 'inf',\n",
       " 'isclose',\n",
       " 'isfinite',\n",
       " 'isinf',\n",
       " 'isnan',\n",
       " 'isqrt',\n",
       " 'lcm',\n",
       " 'ldexp',\n",
       " 'lgamma',\n",
       " 'log',\n",
       " 'log10',\n",
       " 'log1p',\n",
       " 'log2',\n",
       " 'modf',\n",
       " 'nan',\n",
       " 'nextafter',\n",
       " 'perm',\n",
       " 'pi',\n",
       " 'pow',\n",
       " 'prod',\n",
       " 'radians',\n",
       " 'remainder',\n",
       " 'sin',\n",
       " 'sinh',\n",
       " 'sqrt',\n",
       " 'tan',\n",
       " 'tanh',\n",
       " 'tau',\n",
       " 'trunc',\n",
       " 'ulp']"
      ]
     },
     "execution_count": 33,
     "metadata": {},
     "output_type": "execute_result"
    }
   ],
   "source": [
    "#returns all properties and methods of the specified object\n",
    "dir(math)"
   ]
  },
  {
   "cell_type": "code",
   "execution_count": 94,
   "id": "8e0caabb",
   "metadata": {
    "id": "8e0caabb",
    "outputId": "38704d38-8c9f-443a-8921-3cc77818266b"
   },
   "outputs": [
    {
     "data": {
      "text/plain": [
       "3.141592653589793"
      ]
     },
     "execution_count": 94,
     "metadata": {},
     "output_type": "execute_result"
    }
   ],
   "source": [
    "math.pi"
   ]
  },
  {
   "cell_type": "code",
   "execution_count": 95,
   "id": "dc3b70f8",
   "metadata": {
    "id": "dc3b70f8",
    "outputId": "48ff9155-eac4-438d-e469-b46dbe64d18b"
   },
   "outputs": [
    {
     "name": "stdout",
     "output_type": "stream",
     "text": [
      "3.141592653589793\n"
     ]
    }
   ],
   "source": [
    "print(math.pi)"
   ]
  },
  {
   "cell_type": "code",
   "execution_count": 36,
   "id": "46b5b0e2",
   "metadata": {
    "id": "46b5b0e2",
    "outputId": "260a2fe7-9738-40cd-f90d-16db830df42e"
   },
   "outputs": [
    {
     "name": "stdout",
     "output_type": "stream",
     "text": [
      "<class 'int'>\n",
      "<class 'str'>\n"
     ]
    }
   ],
   "source": [
    "# dynamically typed: no requirement to explicitly state data type during variable declaration unlike c and java\n",
    "age = 20\n",
    "print(type(age))\n",
    "\n",
    "age = \"twenty\"\n",
    "print(type(age))"
   ]
  },
  {
   "cell_type": "code",
   "execution_count": 37,
   "id": "8feae6f2",
   "metadata": {
    "id": "8feae6f2"
   },
   "outputs": [],
   "source": [
    "z = 2+3j"
   ]
  },
  {
   "cell_type": "code",
   "execution_count": 38,
   "id": "ed677273",
   "metadata": {
    "id": "ed677273",
    "outputId": "43c9f01a-53d7-45cc-fd53-113d353fbe8d"
   },
   "outputs": [
    {
     "data": {
      "text/plain": [
       "2.0"
      ]
     },
     "execution_count": 38,
     "metadata": {},
     "output_type": "execute_result"
    }
   ],
   "source": [
    "z.real"
   ]
  },
  {
   "cell_type": "code",
   "execution_count": 39,
   "id": "32e9204d",
   "metadata": {
    "id": "32e9204d",
    "outputId": "252c717c-b38e-4a1d-eb3e-f43a90e4a873"
   },
   "outputs": [
    {
     "data": {
      "text/plain": [
       "3.0"
      ]
     },
     "execution_count": 39,
     "metadata": {},
     "output_type": "execute_result"
    }
   ],
   "source": [
    "z.imag"
   ]
  },
  {
   "cell_type": "code",
   "execution_count": 40,
   "id": "1e23ce77",
   "metadata": {
    "id": "1e23ce77",
    "outputId": "75a1c142-41aa-4ce0-87c5-a53c763cf0cd"
   },
   "outputs": [
    {
     "data": {
      "text/plain": [
       "25"
      ]
     },
     "execution_count": 40,
     "metadata": {},
     "output_type": "execute_result"
    }
   ],
   "source": [
    "pow(5,2)"
   ]
  },
  {
   "cell_type": "code",
   "execution_count": 41,
   "id": "008527b1",
   "metadata": {
    "id": "008527b1",
    "outputId": "f12445a2-6b8a-482e-f66d-31a106b4b9ed"
   },
   "outputs": [
    {
     "data": {
      "text/plain": [
       "1"
      ]
     },
     "execution_count": 41,
     "metadata": {},
     "output_type": "execute_result"
    }
   ],
   "source": [
    "int(1.2)"
   ]
  },
  {
   "cell_type": "code",
   "execution_count": 42,
   "id": "6b9ac1a7",
   "metadata": {
    "id": "6b9ac1a7",
    "outputId": "d5d7fc5c-ef1b-4dc9-b70a-984578aa06f8"
   },
   "outputs": [
    {
     "data": {
      "text/plain": [
       "'1'"
      ]
     },
     "execution_count": 42,
     "metadata": {},
     "output_type": "execute_result"
    }
   ],
   "source": [
    "str(1)"
   ]
  },
  {
   "cell_type": "code",
   "execution_count": 43,
   "id": "51b2a3bc",
   "metadata": {
    "id": "51b2a3bc"
   },
   "outputs": [],
   "source": [
    "result = 4+3"
   ]
  },
  {
   "cell_type": "code",
   "execution_count": 44,
   "id": "20c32aea",
   "metadata": {
    "id": "20c32aea",
    "outputId": "76a2865e-92fc-4576-dfd4-d523c7eb9d5f"
   },
   "outputs": [
    {
     "data": {
      "text/plain": [
       "7"
      ]
     },
     "execution_count": 44,
     "metadata": {},
     "output_type": "execute_result"
    }
   ],
   "source": [
    "result"
   ]
  },
  {
   "cell_type": "markdown",
   "id": "1be9024d",
   "metadata": {
    "id": "1be9024d"
   },
   "source": [
    "<b> Fun with Strings </b>"
   ]
  },
  {
   "cell_type": "code",
   "execution_count": 45,
   "id": "871de633",
   "metadata": {
    "id": "871de633"
   },
   "outputs": [],
   "source": [
    "my_string = \"this is my string\""
   ]
  },
  {
   "cell_type": "code",
   "execution_count": 46,
   "id": "913d496e",
   "metadata": {
    "id": "913d496e",
    "outputId": "f8551c34-8242-4373-a5d4-d7f2e7a04bf5"
   },
   "outputs": [
    {
     "name": "stdout",
     "output_type": "stream",
     "text": [
      "this is my string\n"
     ]
    }
   ],
   "source": [
    "print(my_string)"
   ]
  },
  {
   "cell_type": "code",
   "execution_count": 47,
   "id": "a8578e85",
   "metadata": {
    "id": "a8578e85",
    "outputId": "1c485441-812c-431b-816d-9eac748f648b"
   },
   "outputs": [
    {
     "data": {
      "text/plain": [
       "str"
      ]
     },
     "execution_count": 47,
     "metadata": {},
     "output_type": "execute_result"
    }
   ],
   "source": [
    "type(my_string)"
   ]
  },
  {
   "cell_type": "code",
   "execution_count": 48,
   "id": "cda147b4",
   "metadata": {
    "id": "cda147b4",
    "outputId": "306bd3eb-7d34-4046-9eb0-0d62534582f4"
   },
   "outputs": [
    {
     "data": {
      "text/plain": [
       "17"
      ]
     },
     "execution_count": 48,
     "metadata": {},
     "output_type": "execute_result"
    }
   ],
   "source": [
    "len(my_string)"
   ]
  },
  {
   "cell_type": "code",
   "execution_count": 49,
   "id": "d55cd97f",
   "metadata": {
    "id": "d55cd97f"
   },
   "outputs": [],
   "source": [
    "empty_string = \"\""
   ]
  },
  {
   "cell_type": "code",
   "execution_count": 50,
   "id": "aacbaa29",
   "metadata": {
    "id": "aacbaa29",
    "outputId": "675905e9-6edc-4e5e-8f75-d1b7284ec5c6"
   },
   "outputs": [
    {
     "data": {
      "text/plain": [
       "0"
      ]
     },
     "execution_count": 50,
     "metadata": {},
     "output_type": "execute_result"
    }
   ],
   "source": [
    "len(empty_string)"
   ]
  },
  {
   "cell_type": "code",
   "execution_count": 97,
   "id": "23132ef6",
   "metadata": {
    "id": "23132ef6",
    "outputId": "30344f79-1e3d-4b45-fec8-a466b76561b7"
   },
   "outputs": [
    {
     "data": {
      "text/plain": [
       "'this is my string This is concatenation'"
      ]
     },
     "execution_count": 97,
     "metadata": {},
     "output_type": "execute_result"
    }
   ],
   "source": [
    "my_string + \" This is concatenation\""
   ]
  },
  {
   "cell_type": "code",
   "execution_count": 52,
   "id": "7188554b",
   "metadata": {
    "id": "7188554b",
    "outputId": "b6684a2f-532c-45e3-a353-960bbf90e182"
   },
   "outputs": [
    {
     "data": {
      "text/plain": [
       "'this is my string'"
      ]
     },
     "execution_count": 52,
     "metadata": {},
     "output_type": "execute_result"
    }
   ],
   "source": [
    "my_string"
   ]
  },
  {
   "cell_type": "code",
   "execution_count": 53,
   "id": "02b44322",
   "metadata": {
    "id": "02b44322"
   },
   "outputs": [],
   "source": [
    "new_string = my_string + \" This is concatenation\""
   ]
  },
  {
   "cell_type": "code",
   "execution_count": 54,
   "id": "cc7c8a50",
   "metadata": {
    "id": "cc7c8a50",
    "outputId": "fc4cf31c-f4b0-4e60-b359-0718875c7ffe"
   },
   "outputs": [
    {
     "data": {
      "text/plain": [
       "'this is my string This is concatenation'"
      ]
     },
     "execution_count": 54,
     "metadata": {},
     "output_type": "execute_result"
    }
   ],
   "source": [
    "new_string"
   ]
  },
  {
   "cell_type": "code",
   "execution_count": 55,
   "id": "0987674f",
   "metadata": {
    "id": "0987674f",
    "outputId": "f8ca053c-d261-41cd-f2ea-643365f7b992"
   },
   "outputs": [
    {
     "data": {
      "text/plain": [
       "'this is my string'"
      ]
     },
     "execution_count": 55,
     "metadata": {},
     "output_type": "execute_result"
    }
   ],
   "source": [
    "my_string"
   ]
  },
  {
   "cell_type": "code",
   "execution_count": 56,
   "id": "a69bf2af",
   "metadata": {
    "id": "a69bf2af",
    "outputId": "164eac5f-5f37-43b3-9547-8856cde10d22"
   },
   "outputs": [
    {
     "data": {
      "text/plain": [
       "'t'"
      ]
     },
     "execution_count": 56,
     "metadata": {},
     "output_type": "execute_result"
    }
   ],
   "source": [
    "my_string[0]"
   ]
  },
  {
   "cell_type": "code",
   "execution_count": 57,
   "id": "05ca4f5b",
   "metadata": {
    "id": "05ca4f5b",
    "outputId": "4a1904cc-c8cb-48a1-cabd-d8e2634f2026"
   },
   "outputs": [
    {
     "data": {
      "text/plain": [
       "'i'"
      ]
     },
     "execution_count": 57,
     "metadata": {},
     "output_type": "execute_result"
    }
   ],
   "source": [
    "my_string[2]"
   ]
  },
  {
   "cell_type": "code",
   "execution_count": 58,
   "id": "230e240c",
   "metadata": {
    "id": "230e240c",
    "outputId": "678b3cf6-2136-44d0-c9d3-49c5ce7f6ab0"
   },
   "outputs": [
    {
     "data": {
      "text/plain": [
       "'g'"
      ]
     },
     "execution_count": 58,
     "metadata": {},
     "output_type": "execute_result"
    }
   ],
   "source": [
    "my_string[-1]"
   ]
  },
  {
   "cell_type": "code",
   "execution_count": 59,
   "id": "994477a8",
   "metadata": {
    "id": "994477a8",
    "outputId": "fa8a448b-e954-4165-9e99-b42e6d46c365"
   },
   "outputs": [
    {
     "data": {
      "text/plain": [
       "'n'"
      ]
     },
     "execution_count": 59,
     "metadata": {},
     "output_type": "execute_result"
    }
   ],
   "source": [
    "my_string[-2]"
   ]
  },
  {
   "cell_type": "code",
   "execution_count": 60,
   "id": "2f042492",
   "metadata": {
    "id": "2f042492",
    "outputId": "df75aa28-af48-471c-9290-85c93fb26038"
   },
   "outputs": [
    {
     "data": {
      "text/plain": [
       "'this is my string'"
      ]
     },
     "execution_count": 60,
     "metadata": {},
     "output_type": "execute_result"
    }
   ],
   "source": [
    "my_string"
   ]
  },
  {
   "cell_type": "code",
   "execution_count": 61,
   "id": "12b5c5fb",
   "metadata": {
    "id": "12b5c5fb",
    "outputId": "e1932264-fa0f-4394-e25c-303f9537ea48"
   },
   "outputs": [
    {
     "data": {
      "text/plain": [
       "'this'"
      ]
     },
     "execution_count": 61,
     "metadata": {},
     "output_type": "execute_result"
    }
   ],
   "source": [
    "my_string[0 : 4]"
   ]
  },
  {
   "cell_type": "code",
   "execution_count": 62,
   "id": "2a698d87",
   "metadata": {
    "id": "2a698d87",
    "outputId": "2be27ea7-551f-45dd-fd20-89e87bfc7b98"
   },
   "outputs": [
    {
     "data": {
      "text/plain": [
       "' is my string'"
      ]
     },
     "execution_count": 62,
     "metadata": {},
     "output_type": "execute_result"
    }
   ],
   "source": [
    "my_string[4 : ]"
   ]
  },
  {
   "cell_type": "code",
   "execution_count": 63,
   "id": "10357661",
   "metadata": {
    "id": "10357661",
    "outputId": "d7cbabc1-519e-4750-a443-f90bedfa7d47"
   },
   "outputs": [
    {
     "data": {
      "text/plain": [
       "'is m'"
      ]
     },
     "execution_count": 63,
     "metadata": {},
     "output_type": "execute_result"
    }
   ],
   "source": [
    "my_string[5 : 9]"
   ]
  },
  {
   "cell_type": "code",
   "execution_count": 64,
   "id": "4ef9e95f",
   "metadata": {
    "id": "4ef9e95f",
    "outputId": "d66eab81-4828-4215-aca8-96095cee3513"
   },
   "outputs": [
    {
     "data": {
      "text/plain": [
       "['__add__',\n",
       " '__class__',\n",
       " '__contains__',\n",
       " '__delattr__',\n",
       " '__dir__',\n",
       " '__doc__',\n",
       " '__eq__',\n",
       " '__format__',\n",
       " '__ge__',\n",
       " '__getattribute__',\n",
       " '__getitem__',\n",
       " '__getnewargs__',\n",
       " '__getstate__',\n",
       " '__gt__',\n",
       " '__hash__',\n",
       " '__init__',\n",
       " '__init_subclass__',\n",
       " '__iter__',\n",
       " '__le__',\n",
       " '__len__',\n",
       " '__lt__',\n",
       " '__mod__',\n",
       " '__mul__',\n",
       " '__ne__',\n",
       " '__new__',\n",
       " '__reduce__',\n",
       " '__reduce_ex__',\n",
       " '__repr__',\n",
       " '__rmod__',\n",
       " '__rmul__',\n",
       " '__setattr__',\n",
       " '__sizeof__',\n",
       " '__str__',\n",
       " '__subclasshook__',\n",
       " 'capitalize',\n",
       " 'casefold',\n",
       " 'center',\n",
       " 'count',\n",
       " 'encode',\n",
       " 'endswith',\n",
       " 'expandtabs',\n",
       " 'find',\n",
       " 'format',\n",
       " 'format_map',\n",
       " 'index',\n",
       " 'isalnum',\n",
       " 'isalpha',\n",
       " 'isascii',\n",
       " 'isdecimal',\n",
       " 'isdigit',\n",
       " 'isidentifier',\n",
       " 'islower',\n",
       " 'isnumeric',\n",
       " 'isprintable',\n",
       " 'isspace',\n",
       " 'istitle',\n",
       " 'isupper',\n",
       " 'join',\n",
       " 'ljust',\n",
       " 'lower',\n",
       " 'lstrip',\n",
       " 'maketrans',\n",
       " 'partition',\n",
       " 'removeprefix',\n",
       " 'removesuffix',\n",
       " 'replace',\n",
       " 'rfind',\n",
       " 'rindex',\n",
       " 'rjust',\n",
       " 'rpartition',\n",
       " 'rsplit',\n",
       " 'rstrip',\n",
       " 'split',\n",
       " 'splitlines',\n",
       " 'startswith',\n",
       " 'strip',\n",
       " 'swapcase',\n",
       " 'title',\n",
       " 'translate',\n",
       " 'upper',\n",
       " 'zfill']"
      ]
     },
     "execution_count": 64,
     "metadata": {},
     "output_type": "execute_result"
    }
   ],
   "source": [
    "dir(str)"
   ]
  },
  {
   "cell_type": "code",
   "execution_count": 65,
   "id": "704f3a90",
   "metadata": {
    "id": "704f3a90",
    "outputId": "50beaac3-ded2-4519-e953-46d9a440df1b"
   },
   "outputs": [
    {
     "data": {
      "text/plain": [
       "False"
      ]
     },
     "execution_count": 65,
     "metadata": {},
     "output_type": "execute_result"
    }
   ],
   "source": [
    "my_string.isupper()"
   ]
  },
  {
   "cell_type": "code",
   "execution_count": 66,
   "id": "0e61832b",
   "metadata": {
    "id": "0e61832b",
    "outputId": "976b3a14-a9c2-476a-db56-57bc6394bac3"
   },
   "outputs": [
    {
     "data": {
      "text/plain": [
       "False"
      ]
     },
     "execution_count": 66,
     "metadata": {},
     "output_type": "execute_result"
    }
   ],
   "source": [
    "my_string.isnumeric()"
   ]
  },
  {
   "cell_type": "code",
   "execution_count": 67,
   "id": "311c7353",
   "metadata": {
    "id": "311c7353"
   },
   "outputs": [],
   "source": [
    "numbers = \"123\""
   ]
  },
  {
   "cell_type": "code",
   "execution_count": 68,
   "id": "9d3ae422",
   "metadata": {
    "id": "9d3ae422",
    "outputId": "e2ef1761-eff1-4e6d-ff0c-4502b5443722"
   },
   "outputs": [
    {
     "data": {
      "text/plain": [
       "str"
      ]
     },
     "execution_count": 68,
     "metadata": {},
     "output_type": "execute_result"
    }
   ],
   "source": [
    "type(numbers)"
   ]
  },
  {
   "cell_type": "code",
   "execution_count": 69,
   "id": "fedb6174",
   "metadata": {
    "id": "fedb6174",
    "outputId": "170217cd-6c9a-4229-c4ae-815c1ffd8cb1"
   },
   "outputs": [
    {
     "data": {
      "text/plain": [
       "True"
      ]
     },
     "execution_count": 69,
     "metadata": {},
     "output_type": "execute_result"
    }
   ],
   "source": [
    "numbers.isnumeric()"
   ]
  },
  {
   "cell_type": "code",
   "execution_count": 72,
   "id": "f77bd067",
   "metadata": {
    "id": "f77bd067"
   },
   "outputs": [
    {
     "ename": "SyntaxError",
     "evalue": "invalid syntax (3713248127.py, line 1)",
     "output_type": "error",
     "traceback": [
      "\u001b[1;36m  Cell \u001b[1;32mIn[72], line 1\u001b[1;36m\u001b[0m\n\u001b[1;33m    i=\u001b[0m\n\u001b[1;37m      ^\u001b[0m\n\u001b[1;31mSyntaxError\u001b[0m\u001b[1;31m:\u001b[0m invalid syntax\n"
     ]
    }
   ],
   "source": [
    "#errors\n",
    "i="
   ]
  },
  {
   "cell_type": "code",
   "execution_count": 98,
   "id": "8bea4908",
   "metadata": {
    "id": "8bea4908"
   },
   "outputs": [
    {
     "data": {
      "text/plain": [
       "'Hhh'"
      ]
     },
     "execution_count": 98,
     "metadata": {},
     "output_type": "execute_result"
    }
   ],
   "source": [
    "# hit tab to check functions, not sure what the function does? SEARCH!\n",
    "str.capitalize(\"hhh\")"
   ]
  },
  {
   "cell_type": "code",
   "execution_count": null,
   "id": "98f5cb66-62f7-4b69-a492-5cf6da8199d8",
   "metadata": {},
   "outputs": [],
   "source": []
  }
 ],
 "metadata": {
  "colab": {
   "provenance": []
  },
  "kernelspec": {
   "display_name": "Python 3 (ipykernel)",
   "language": "python",
   "name": "python3"
  },
  "language_info": {
   "codemirror_mode": {
    "name": "ipython",
    "version": 3
   },
   "file_extension": ".py",
   "mimetype": "text/x-python",
   "name": "python",
   "nbconvert_exporter": "python",
   "pygments_lexer": "ipython3",
   "version": "3.11.7"
  }
 },
 "nbformat": 4,
 "nbformat_minor": 5
}
